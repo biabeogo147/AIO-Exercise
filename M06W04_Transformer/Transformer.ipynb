{
  "cells": [
    {
      "cell_type": "code",
      "execution_count": 1,
      "metadata": {
        "id": "eJceC7Uz7dav",
        "colab": {
          "base_uri": "https://localhost:8080/"
        },
        "outputId": "5eb9e9e3-e8bc-4418-e261-7429abafe16a"
      },
      "outputs": [
        {
          "output_type": "stream",
          "name": "stdout",
          "text": [
            "\u001b[2K   \u001b[90m━━━━━━━━━━━━━━━━━━━━━━━━━━━━━━━━━━━━━━━━\u001b[0m \u001b[32m2.0/2.0 MB\u001b[0m \u001b[31m34.5 MB/s\u001b[0m eta \u001b[36m0:00:00\u001b[0m\n",
            "\u001b[2K   \u001b[90m━━━━━━━━━━━━━━━━━━━━━━━━━━━━━━━━━━━━━━━━\u001b[0m \u001b[32m755.5/755.5 MB\u001b[0m \u001b[31m2.3 MB/s\u001b[0m eta \u001b[36m0:00:00\u001b[0m\n",
            "\u001b[2K   \u001b[90m━━━━━━━━━━━━━━━━━━━━━━━━━━━━━━━━━━━━━━━━\u001b[0m \u001b[32m410.6/410.6 MB\u001b[0m \u001b[31m3.8 MB/s\u001b[0m eta \u001b[36m0:00:00\u001b[0m\n",
            "\u001b[2K   \u001b[90m━━━━━━━━━━━━━━━━━━━━━━━━━━━━━━━━━━━━━━━━\u001b[0m \u001b[32m14.1/14.1 MB\u001b[0m \u001b[31m38.3 MB/s\u001b[0m eta \u001b[36m0:00:00\u001b[0m\n",
            "\u001b[2K   \u001b[90m━━━━━━━━━━━━━━━━━━━━━━━━━━━━━━━━━━━━━━━━\u001b[0m \u001b[32m23.7/23.7 MB\u001b[0m \u001b[31m30.8 MB/s\u001b[0m eta \u001b[36m0:00:00\u001b[0m\n",
            "\u001b[2K   \u001b[90m━━━━━━━━━━━━━━━━━━━━━━━━━━━━━━━━━━━━━━━━\u001b[0m \u001b[32m823.6/823.6 kB\u001b[0m \u001b[31m29.8 MB/s\u001b[0m eta \u001b[36m0:00:00\u001b[0m\n",
            "\u001b[2K   \u001b[90m━━━━━━━━━━━━━━━━━━━━━━━━━━━━━━━━━━━━━━━━\u001b[0m \u001b[32m731.7/731.7 MB\u001b[0m \u001b[31m2.5 MB/s\u001b[0m eta \u001b[36m0:00:00\u001b[0m\n",
            "\u001b[2K   \u001b[90m━━━━━━━━━━━━━━━━━━━━━━━━━━━━━━━━━━━━━━━━\u001b[0m \u001b[32m121.6/121.6 MB\u001b[0m \u001b[31m7.7 MB/s\u001b[0m eta \u001b[36m0:00:00\u001b[0m\n",
            "\u001b[2K   \u001b[90m━━━━━━━━━━━━━━━━━━━━━━━━━━━━━━━━━━━━━━━━\u001b[0m \u001b[32m56.5/56.5 MB\u001b[0m \u001b[31m14.2 MB/s\u001b[0m eta \u001b[36m0:00:00\u001b[0m\n",
            "\u001b[2K   \u001b[90m━━━━━━━━━━━━━━━━━━━━━━━━━━━━━━━━━━━━━━━━\u001b[0m \u001b[32m124.2/124.2 MB\u001b[0m \u001b[31m7.5 MB/s\u001b[0m eta \u001b[36m0:00:00\u001b[0m\n",
            "\u001b[2K   \u001b[90m━━━━━━━━━━━━━━━━━━━━━━━━━━━━━━━━━━━━━━━━\u001b[0m \u001b[32m196.0/196.0 MB\u001b[0m \u001b[31m5.8 MB/s\u001b[0m eta \u001b[36m0:00:00\u001b[0m\n",
            "\u001b[2K   \u001b[90m━━━━━━━━━━━━━━━━━━━━━━━━━━━━━━━━━━━━━━━━\u001b[0m \u001b[32m166.0/166.0 MB\u001b[0m \u001b[31m6.6 MB/s\u001b[0m eta \u001b[36m0:00:00\u001b[0m\n",
            "\u001b[2K   \u001b[90m━━━━━━━━━━━━━━━━━━━━━━━━━━━━━━━━━━━━━━━━\u001b[0m \u001b[32m99.1/99.1 kB\u001b[0m \u001b[31m9.7 MB/s\u001b[0m eta \u001b[36m0:00:00\u001b[0m\n",
            "\u001b[2K   \u001b[90m━━━━━━━━━━━━━━━━━━━━━━━━━━━━━━━━━━━━━━━━\u001b[0m \u001b[32m167.9/167.9 MB\u001b[0m \u001b[31m6.5 MB/s\u001b[0m eta \u001b[36m0:00:00\u001b[0m\n",
            "\u001b[?25h\u001b[31mERROR: pip's dependency resolver does not currently take into account all the packages that are installed. This behaviour is the source of the following dependency conflicts.\n",
            "torchaudio 2.5.1+cu121 requires torch==2.5.1, but you have torch 2.2.2 which is incompatible.\n",
            "torchvision 0.20.1+cu121 requires torch==2.5.1, but you have torch 2.2.2 which is incompatible.\u001b[0m\u001b[31m\n",
            "\u001b[0m"
          ]
        }
      ],
      "source": [
        "!pip install -q torchtext==0.17.2"
      ]
    },
    {
      "cell_type": "code",
      "source": [
        "import torchtext\n",
        "import torch\n",
        "import torch.nn as nn\n",
        "from torch.nn import functional as F"
      ],
      "metadata": {
        "id": "nJsIN8XbLPCH"
      },
      "execution_count": 2,
      "outputs": []
    },
    {
      "cell_type": "markdown",
      "metadata": {
        "id": "BcAlBpNLtSuK"
      },
      "source": [
        "#**Kiến trúc Transformer**"
      ]
    },
    {
      "cell_type": "code",
      "source": [
        "# !pip install torch==2.5.1"
      ],
      "metadata": {
        "id": "1u-3Yiq0aTQ3"
      },
      "execution_count": 3,
      "outputs": []
    },
    {
      "cell_type": "markdown",
      "metadata": {
        "id": "f6Q5FngTtYOy"
      },
      "source": [
        "##**1. Input Embedding, Positional Encoding**"
      ]
    },
    {
      "cell_type": "code",
      "execution_count": 4,
      "metadata": {
        "id": "25q36IJztegC"
      },
      "outputs": [],
      "source": [
        "class TokenAndPositionEmbedding(nn.Module):\n",
        "    def __init__(self, vocab_size, embed_dim, max_length, device='cpu'):\n",
        "        super().__init__()\n",
        "        self.device = device\n",
        "        self.word_emb = nn.Embedding(num_embeddings=vocab_size, embedding_dim=embed_dim)\n",
        "        self.pos_emb = nn.Embedding(num_embeddings=max_length, embedding_dim=embed_dim)\n",
        "\n",
        "    def forward(self, x):\n",
        "        N, seq_len = x.size()\n",
        "        positions = torch.arange(seq_len).expand(N, seq_len).to(self.device)\n",
        "        return self.word_emb(x) + self.pos_emb(positions)"
      ]
    },
    {
      "cell_type": "markdown",
      "metadata": {
        "id": "iPs_PoYbvChg"
      },
      "source": [
        "##**2. Encoder**"
      ]
    },
    {
      "cell_type": "code",
      "execution_count": 27,
      "metadata": {
        "id": "Fz2Qw2sTvGeg"
      },
      "outputs": [],
      "source": [
        "class TransformerEncoderBlock(nn.Module):\n",
        "    def __init__(self, embed_dim, num_heads, ff_dim, dropout=0.1):\n",
        "        super().__init__()\n",
        "        self.attn = nn.MultiheadAttention(\n",
        "            embed_dim=embed_dim,\n",
        "            num_heads=num_heads,\n",
        "            batch_first=True\n",
        "        )\n",
        "        self.ffn = nn.Sequential(\n",
        "            nn.Linear(in_features=embed_dim, out_features=ff_dim, bias=True),\n",
        "            nn.ReLU(),\n",
        "            nn.Linear(in_features=ff_dim, out_features=embed_dim, bias=True)\n",
        "        )\n",
        "        self.layernorm_1 = nn.LayerNorm(normalized_shape=embed_dim, eps=1e-6)\n",
        "        self.layernorm_2 = nn.LayerNorm(normalized_shape=embed_dim, eps=1e-6)\n",
        "        self.dropout_1 = nn.Dropout(p=dropout)\n",
        "        self.dropout_2 = nn.Dropout(p=dropout)\n",
        "\n",
        "    def forward(self, query, key, value):\n",
        "        attn_output, _ = self.attn(query, key, value)\n",
        "        attn_output = self.dropout_1(attn_output)\n",
        "        out_1 = self.layernorm_1(query + attn_output)\n",
        "        ffn_output = self.ffn(out_1)\n",
        "        ffn_output = self.dropout_2(ffn_output)\n",
        "        out_2 = self.layernorm_2(out_1 + ffn_output)\n",
        "        return out_2\n",
        "\n",
        "class TransformerEncoder(nn.Module):\n",
        "    def __init__(self, vocab_size, embed_dim, max_length, num_layers, num_heads, ff_dim, dropout=0.1, device='cpu'):\n",
        "        super().__init__()\n",
        "        self.embedding = TokenAndPositionEmbedding(vocab_size, embed_dim, max_length, device)\n",
        "        self.encoder_layers = nn.ModuleList([\n",
        "            TransformerEncoderBlock(embed_dim, num_heads, ff_dim, dropout)\n",
        "            for _ in range(num_layers)\n",
        "        ])\n",
        "\n",
        "    def forward(self, x):\n",
        "        output = self.embedding(x)\n",
        "        for layer in self.encoder_layers:\n",
        "            output = layer(output, output, output)\n",
        "        return output"
      ]
    },
    {
      "cell_type": "markdown",
      "source": [
        "##**3. Decoder**"
      ],
      "metadata": {
        "id": "rHU1P0MGw2PV"
      }
    },
    {
      "cell_type": "code",
      "source": [
        "class TransformerDecoderBlock(nn.Module):\n",
        "    def __init__(self, embed_dim, num_heads, ff_dim, dropout=0.1):\n",
        "        super().__init__()\n",
        "        self.attn = nn.MultiheadAttention(\n",
        "            embed_dim=embed_dim,\n",
        "            num_heads=num_heads,\n",
        "            batch_first=True\n",
        "        )\n",
        "        self.cross_attn = nn.MultiheadAttention(\n",
        "            embed_dim=embed_dim,\n",
        "            num_heads=num_heads,\n",
        "            batch_first=True\n",
        "        )\n",
        "        self.ffn = nn.Sequential(\n",
        "            nn.Linear(in_features=embed_dim, out_features=ff_dim, bias=True),\n",
        "            nn.ReLU(),\n",
        "            nn.Linear(in_features=ff_dim, out_features=embed_dim, bias=True)\n",
        "        )\n",
        "        self.layernorm_1 = nn.LayerNorm(normalized_shape=embed_dim, eps=1e-6)\n",
        "        self.layernorm_2 = nn.LayerNorm(normalized_shape=embed_dim, eps=1e-6)\n",
        "        self.layernorm_3 = nn.LayerNorm(normalized_shape=embed_dim, eps=1e-6)\n",
        "        self.dropout_1 = nn.Dropout(p=dropout)\n",
        "        self.dropout_2 = nn.Dropout(p=dropout)\n",
        "        self.dropout_3 = nn.Dropout(p=dropout)\n",
        "\n",
        "    def forward(self, x, enc_output, src_mask, tgt_mask):\n",
        "        attn_output, _ = self.attn(x, x, x, attn_mask=tgt_mask)\n",
        "        attn_output = self.dropout_1(attn_output)\n",
        "        out_1 = self.layernorm_1(x + attn_output)\n",
        "\n",
        "        attn_output, _ = self.cross_attn(out_1, enc_output, enc_output, attn_mask=src_mask)\n",
        "        attn_output = self.dropout_2(attn_output)\n",
        "        out_2 = self.layernorm_2(out_1 + attn_output)\n",
        "\n",
        "        ffn_output = self.ffn(out_2)\n",
        "        ffn_output = self.dropout_3(ffn_output)\n",
        "        out_3 = self.layernorm_3(out_2 + ffn_output)\n",
        "        return out_3\n",
        "\n",
        "class TransformerDecoder(nn.Module):\n",
        "    def __init__(self, vocab_size, embed_dim, max_length, num_layers, num_heads, ff_dim, dropout=0.1, device='cpu'):\n",
        "        super().__init__()\n",
        "        self.embedding = TokenAndPositionEmbedding(vocab_size, embed_dim, max_length, device)\n",
        "        self.decoder_layers = nn.ModuleList([\n",
        "            TransformerDecoderBlock(embed_dim, num_heads, ff_dim, dropout)\n",
        "            for _ in range(num_layers)\n",
        "        ])\n",
        "\n",
        "    def forward(self, x, enc_output, src_mask, tgt_mask):\n",
        "        x = self.embedding(x)\n",
        "        for layer in self.decoder_layers:\n",
        "            output = layer(x, enc_output, src_mask, tgt_mask)\n",
        "        return output"
      ],
      "metadata": {
        "id": "gDJhyz_kw7e3"
      },
      "execution_count": 6,
      "outputs": []
    },
    {
      "cell_type": "markdown",
      "metadata": {
        "id": "kPbn8xb4pXO4"
      },
      "source": [
        "##**4. Transformer**"
      ]
    },
    {
      "cell_type": "code",
      "execution_count": 7,
      "metadata": {
        "id": "jicnGmh0paKC"
      },
      "outputs": [],
      "source": [
        "class Transformer(nn.Module):\n",
        "    def __init__(self, src_vocab_size, tgt_vocab_size, embed_dim, max_length, num_layers, num_heads, ff_dim, dropout=0.1, device='cpu'):\n",
        "        super().__init__()\n",
        "        self.device = device\n",
        "        self.encoder = TransformerEncoder(\n",
        "            src_vocab_size, embed_dim, max_length, num_layers, num_heads, ff_dim, dropout, device\n",
        "        )\n",
        "        self.decoder = TransformerDecoder(\n",
        "            tgt_vocab_size, embed_dim, max_length, num_layers, num_heads, ff_dim, dropout, device\n",
        "        )\n",
        "        self.fc = nn.Linear(embed_dim, tgt_vocab_size)\n",
        "\n",
        "    def generate_mask(self, src, tgt):\n",
        "        src_seq_len = src.shape[1]\n",
        "        tgt_seq_len = tgt.shape[1]\n",
        "\n",
        "        src_mask = torch.zeros(src_seq_len, src_seq_len).to(self.device).type(torch.bool)\n",
        "        tgt_mask = (torch.triu(torch.ones(tgt_seq_len, tgt_seq_len)) == 1).transpose(0, 1).to(self.device)\n",
        "        tgt_mask = tgt_mask.float().masked_fill(tgt_mask == 0, float('-inf')).masked_fill(tgt_mask == 1, float(0.0))\n",
        "        return src_mask, tgt_mask\n",
        "\n",
        "    def forward(self, src, tgt):\n",
        "        src_mask, tgt_mask = self.generate_mask(src, tgt)\n",
        "        enc_output = self.encoder(src)\n",
        "        dec_output = self.decoder(tgt, enc_output, src_mask, tgt_mask)\n",
        "        output = self.fc(dec_output)\n",
        "        return output"
      ]
    },
    {
      "cell_type": "markdown",
      "source": [
        "##**5. Thử nghiệm**"
      ],
      "metadata": {
        "id": "NKSNFlp713hU"
      }
    },
    {
      "cell_type": "code",
      "execution_count": null,
      "metadata": {
        "id": "2_cRy7XAqyNJ"
      },
      "outputs": [],
      "source": [
        "batch_size = 128\n",
        "src_vocab_size = 1000\n",
        "tgt_vocab_size = 2000\n",
        "embed_dim = 200\n",
        "max_length = 100\n",
        "num_layers = 2\n",
        "num_heads = 4\n",
        "ff_dim = 256\n",
        "\n",
        "model = Transformer(\n",
        "    src_vocab_size, tgt_vocab_size,\n",
        "    embed_dim, max_length, num_layers, num_heads, ff_dim\n",
        ")\n",
        "\n",
        "src = torch.randint(\n",
        "    high=2,\n",
        "    size=(batch_size, max_length),\n",
        "    dtype=torch.int64\n",
        ")\n",
        "\n",
        "tgt = torch.randint(\n",
        "    high=2,\n",
        "    size=(batch_size, max_length),\n",
        "    dtype=torch.int64\n",
        ")\n",
        "\n",
        "prediction = model(src, tgt)\n",
        "prediction.shape # (batch_size, max_length, tgt_vocab_size)"
      ]
    },
    {
      "cell_type": "markdown",
      "metadata": {
        "id": "Apje_0G_6qqY"
      },
      "source": [
        "#**Text Classification using Transformer-Encoder**"
      ]
    },
    {
      "cell_type": "markdown",
      "metadata": {
        "id": "ira_hi4X6vfH"
      },
      "source": [
        "##**1. Load Dataset**"
      ]
    },
    {
      "cell_type": "code",
      "source": [
        "!pip install datasets"
      ],
      "metadata": {
        "id": "wQuwn4snLV6s"
      },
      "execution_count": null,
      "outputs": []
    },
    {
      "cell_type": "code",
      "source": [
        "from datasets import load_dataset\n",
        "\n",
        "ds = load_dataset('thainq107/ntc-scv')"
      ],
      "metadata": {
        "id": "ag0SaLgr72_H"
      },
      "execution_count": null,
      "outputs": []
    },
    {
      "cell_type": "markdown",
      "metadata": {
        "id": "1OZjQuvm68uz"
      },
      "source": [
        "##**2. Preprocessing**"
      ]
    },
    {
      "cell_type": "markdown",
      "metadata": {
        "id": "_7-Z74Hz7HRS"
      },
      "source": [
        "**Text Cleaning**"
      ]
    },
    {
      "cell_type": "code",
      "execution_count": null,
      "metadata": {
        "id": "JkdKuuog7JMv"
      },
      "outputs": [],
      "source": [
        "import re\n",
        "import string\n",
        "\n",
        "def preprocess_text(text):\n",
        "    # remove URLs https://www.\n",
        "    url_pattern = re.compile(r'https?://\\s+\\wwww\\.\\s+')\n",
        "    text = url_pattern.sub(r\" \", text)\n",
        "\n",
        "    # remove HTML Tags: <>\n",
        "    html_pattern = re.compile(r'<[^<>]+>')\n",
        "    text = html_pattern.sub(\" \", text)\n",
        "\n",
        "    # remove puncs and digits\n",
        "    replace_chars = list(string.punctuation + string.digits)\n",
        "    for char in replace_chars:\n",
        "        text = text.replace(char, \" \")\n",
        "\n",
        "    # remove emoji\n",
        "    emoji_pattern = re.compile(\"[\"\n",
        "        u\"\\U0001F600-\\U0001F64F\"  # emoticons\n",
        "        u\"\\U0001F300-\\U0001F5FF\"  # symbols & pictographs\n",
        "        u\"\\U0001F680-\\U0001F6FF\"  # transport & map symbols\n",
        "        u\"\\U0001F1E0-\\U0001F1FF\"  # flags (iOS)\n",
        "        u\"\\U0001F1F2-\\U0001F1F4\"  # Macau flag\n",
        "        u\"\\U0001F1E6-\\U0001F1FF\"  # flags\n",
        "        u\"\\U0001F600-\\U0001F64F\"\n",
        "        u\"\\U00002702-\\U000027B0\"\n",
        "        u\"\\U000024C2-\\U0001F251\"\n",
        "        u\"\\U0001f926-\\U0001f937\"\n",
        "        u\"\\U0001F1F2\"\n",
        "        u\"\\U0001F1F4\"\n",
        "        u\"\\U0001F620\"\n",
        "        u\"\\u200d\"\n",
        "        u\"\\u2640-\\u2642\"\n",
        "        \"]+\", flags=re.UNICODE)\n",
        "    text = emoji_pattern.sub(r\" \", text)\n",
        "\n",
        "    # normalize whitespace\n",
        "    text = \" \".join(text.split())\n",
        "\n",
        "    # lowercasing\n",
        "    text = text.lower()\n",
        "    return text"
      ]
    },
    {
      "cell_type": "markdown",
      "metadata": {
        "id": "3BkC5N3U7QCN"
      },
      "source": [
        "##**3. Representation**"
      ]
    },
    {
      "cell_type": "code",
      "execution_count": null,
      "metadata": {
        "id": "Nc_bX28S7WUx"
      },
      "outputs": [],
      "source": [
        "def yield_tokens(sentences, tokenizer):\n",
        "    for sentence in sentences:\n",
        "        yield tokenizer(sentence)"
      ]
    },
    {
      "cell_type": "code",
      "execution_count": null,
      "metadata": {
        "id": "-ubaJjnM7X8G"
      },
      "outputs": [],
      "source": [
        "# word-based tokenizer\n",
        "import torchtext\n",
        "from torchtext.data import get_tokenizer\n",
        "\n",
        "tokenizer = get_tokenizer(\"basic_english\")"
      ]
    },
    {
      "cell_type": "code",
      "execution_count": 16,
      "metadata": {
        "id": "xtS-kwxD7ZjA"
      },
      "outputs": [],
      "source": [
        "# build vocabulary\n",
        "from torchtext.vocab import build_vocab_from_iterator\n",
        "\n",
        "vocab_size = 10000\n",
        "vocabulary = build_vocab_from_iterator(\n",
        "    yield_tokens(ds['train']['preprocessed_sentence'], tokenizer),\n",
        "    max_tokens=vocab_size,\n",
        "    specials=[\"<pad>\", \"<unk>\"]\n",
        ")\n",
        "vocabulary.set_default_index(vocabulary[\"<unk>\"])"
      ]
    },
    {
      "cell_type": "code",
      "execution_count": 17,
      "metadata": {
        "id": "DKxFJqz47b3F"
      },
      "outputs": [],
      "source": [
        "from torchtext.data.functional import to_map_style_dataset\n",
        "\n",
        "def prepare_dataset(df):\n",
        "    # create iterator for dataset: (sentence, label)\n",
        "    for row in df:\n",
        "        sentence = row['preprocessed_sentence']\n",
        "        encoded_sentence = vocabulary(tokenizer(sentence))\n",
        "        label = row['label']\n",
        "        yield encoded_sentence, label\n",
        "\n",
        "train_dataset = prepare_dataset(ds['train'])\n",
        "train_dataset = to_map_style_dataset(train_dataset)\n",
        "\n",
        "valid_dataset = prepare_dataset(ds['valid'])\n",
        "valid_dataset = to_map_style_dataset(valid_dataset)\n",
        "\n",
        "test_dataset = prepare_dataset(ds['test'])\n",
        "test_dataset = to_map_style_dataset(test_dataset)"
      ]
    },
    {
      "cell_type": "markdown",
      "metadata": {
        "id": "2pq9RDwI7dxB"
      },
      "source": [
        "##**4. Dataloader**"
      ]
    },
    {
      "cell_type": "code",
      "execution_count": 18,
      "metadata": {
        "id": "mzUTf-t_7hP3"
      },
      "outputs": [],
      "source": [
        "import torch\n",
        "\n",
        "seq_length = 100\n",
        "\n",
        "def collate_batch(batch):\n",
        "    # create inputs, offsets, labels for batch\n",
        "    sentences, labels = list(zip(*batch))\n",
        "    encoded_sentences = [\n",
        "        sentence+([0]*(seq_length-len(sentence))) if len(sentence) < seq_length else sentence[:seq_length]\n",
        "        for sentence in sentences\n",
        "    ]\n",
        "\n",
        "    encoded_sentences = torch.tensor(encoded_sentences, dtype=torch.int64)\n",
        "    labels = torch.tensor(labels)\n",
        "    return encoded_sentences, labels"
      ]
    },
    {
      "cell_type": "code",
      "execution_count": 19,
      "metadata": {
        "id": "lRqmmogt7kem"
      },
      "outputs": [],
      "source": [
        "from torch.utils.data import DataLoader\n",
        "\n",
        "train_dataloader = DataLoader(\n",
        "    train_dataset,\n",
        "    batch_size=batch_size,\n",
        "    shuffle=True,\n",
        "    collate_fn=collate_batch\n",
        ")\n",
        "valid_dataloader = DataLoader(\n",
        "    valid_dataset,\n",
        "    batch_size=batch_size,\n",
        "    shuffle=False,\n",
        "    collate_fn=collate_batch\n",
        ")\n",
        "test_dataloader = DataLoader(\n",
        "    test_dataset,\n",
        "    batch_size=batch_size,\n",
        "    shuffle=False,\n",
        "    collate_fn=collate_batch\n",
        ")"
      ]
    },
    {
      "cell_type": "markdown",
      "metadata": {
        "id": "Fa6W2VcT9mai"
      },
      "source": [
        "##**5. Trainer**"
      ]
    },
    {
      "cell_type": "code",
      "execution_count": 20,
      "metadata": {
        "id": "wuvVJXtB9qKL"
      },
      "outputs": [],
      "source": [
        "import time\n",
        "\n",
        "def train_epoch(model, optimizer, criterion, train_dataloader, device, epoch=0, log_interval=50):\n",
        "    model.train()\n",
        "    total_acc, total_count = 0, 0\n",
        "    losses = []\n",
        "    start_time = time.time()\n",
        "\n",
        "    for idx, (inputs, labels) in enumerate(train_dataloader):\n",
        "        inputs = inputs.to(device)\n",
        "        labels = labels.to(device)\n",
        "\n",
        "        optimizer.zero_grad()\n",
        "\n",
        "        predictions = model(inputs)\n",
        "\n",
        "        # compute loss\n",
        "        loss = criterion(predictions, labels)\n",
        "        losses.append(loss.item())\n",
        "\n",
        "        # backward\n",
        "        loss.backward()\n",
        "        optimizer.step()\n",
        "        total_acc += (predictions.argmax(1) == labels).sum().item()\n",
        "        total_count += labels.size(0)\n",
        "        if idx % log_interval == 0 and idx > 0:\n",
        "            elapsed = time.time() - start_time\n",
        "            print(\n",
        "                \"| epoch {:3d} | {:5d}/{:5d} batches \"\n",
        "                \"| accuracy {:8.3f}\".format(\n",
        "                    epoch, idx, len(train_dataloader), total_acc / total_count\n",
        "                )\n",
        "            )\n",
        "            total_acc, total_count = 0, 0\n",
        "            start_time = time.time()\n",
        "\n",
        "    epoch_acc = total_acc / total_count\n",
        "    epoch_loss = sum(losses) / len(losses)\n",
        "    return epoch_acc, epoch_loss"
      ]
    },
    {
      "cell_type": "code",
      "execution_count": 21,
      "metadata": {
        "id": "piuTehfZ9xdx"
      },
      "outputs": [],
      "source": [
        "def evaluate_epoch(model, criterion, valid_dataloader, device):\n",
        "    model.eval()\n",
        "    total_acc, total_count = 0, 0\n",
        "    losses = []\n",
        "\n",
        "    with torch.no_grad():\n",
        "        for idx, (inputs, labels) in enumerate(valid_dataloader):\n",
        "            inputs = inputs.to(device)\n",
        "            labels = labels.to(device)\n",
        "\n",
        "            predictions = model(inputs)\n",
        "\n",
        "            loss = criterion(predictions, labels)\n",
        "            losses.append(loss.item())\n",
        "\n",
        "            total_acc += (predictions.argmax(1) == labels).sum().item()\n",
        "            total_count += labels.size(0)\n",
        "\n",
        "    epoch_acc = total_acc / total_count\n",
        "    epoch_loss = sum(losses) / len(losses)\n",
        "    return epoch_acc, epoch_loss"
      ]
    },
    {
      "cell_type": "code",
      "execution_count": 22,
      "metadata": {
        "id": "JuqJbVjP92ew"
      },
      "outputs": [],
      "source": [
        "def train(model, model_name, save_model, optimizer, criterion, train_dataloader, valid_dataloader, num_epochs, device):\n",
        "    train_accs, train_losses, eval_accs, eval_losses = [], [], [], []\n",
        "    best_loss_eval = 100\n",
        "    times = []\n",
        "    for epoch in range(1, num_epochs+1):\n",
        "        epoch_start_time = time.time()\n",
        "        # Training\n",
        "        train_acc, train_loss = train_epoch(model, optimizer, criterion, train_dataloader, device, epoch)\n",
        "        train_accs.append(train_acc)\n",
        "        train_losses.append(train_loss)\n",
        "\n",
        "        # Evaluation\n",
        "        eval_acc, eval_loss = evaluate_epoch(model, criterion, valid_dataloader, device)\n",
        "        eval_accs.append(eval_acc)\n",
        "        eval_losses.append(eval_loss)\n",
        "\n",
        "        # Save best model\n",
        "        if eval_loss < best_loss_eval:\n",
        "            torch.save(model.state_dict(), save_model + f'/{model_name}.pt')\n",
        "\n",
        "        times.append(time.time() - epoch_start_time)\n",
        "        # Print loss, acc end epoch\n",
        "        print(\"-\" * 59)\n",
        "        print(\n",
        "            \"| End of epoch {:3d} | Time: {:5.2f}s | Train Accuracy {:8.3f} | Train Loss {:8.3f} \"\n",
        "            \"| Valid Accuracy {:8.3f} | Valid Loss {:8.3f} \".format(\n",
        "                epoch, time.time() - epoch_start_time, train_acc, train_loss, eval_acc, eval_loss\n",
        "            )\n",
        "        )\n",
        "        print(\"-\" * 59)\n",
        "\n",
        "    # Load best model\n",
        "    model.load_state_dict(torch.load(save_model + f'/{model_name}.pt', weights_only=True))\n",
        "    model.eval()\n",
        "    metrics = {\n",
        "        'train_accuracy': train_accs,\n",
        "        'train_loss': train_losses,\n",
        "        'valid_accuracy': eval_accs,\n",
        "        'valid_loss': eval_losses,\n",
        "        'time': times\n",
        "    }\n",
        "    return model, metrics"
      ]
    },
    {
      "cell_type": "code",
      "execution_count": 23,
      "metadata": {
        "id": "Im6ctPs995cJ"
      },
      "outputs": [],
      "source": [
        "import matplotlib.pyplot as plt\n",
        "\n",
        "def plot_result(num_epochs, train_accs, eval_accs, train_losses, eval_losses):\n",
        "    epochs = list(range(num_epochs))\n",
        "    fig, axs = plt.subplots(nrows=1, ncols=2 , figsize=(12, 6))\n",
        "\n",
        "    axs[0].plot(epochs, train_accs, label = \"Training\")\n",
        "    axs[0].plot(epochs, eval_accs, label = \"Evaluation\")\n",
        "    axs[0].set_xlabel(\"Epochs\")\n",
        "    axs[0].set_ylabel(\"Accuracy\")\n",
        "\n",
        "    axs[1].plot(epochs, train_losses, label = \"Training\")\n",
        "    axs[1].plot(epochs, eval_losses, label = \"Evaluation\")\n",
        "    axs[1].set_xlabel(\"Epochs\")\n",
        "    axs[1].set_ylabel(\"Loss\")\n",
        "\n",
        "    plt.legend()\n",
        "    plt.show()"
      ]
    },
    {
      "cell_type": "markdown",
      "metadata": {
        "id": "HJ-w3VTW9-rh"
      },
      "source": [
        "##**6. Modeling**"
      ]
    },
    {
      "cell_type": "code",
      "execution_count": 24,
      "metadata": {
        "id": "gTpF9kJN-BAL"
      },
      "outputs": [],
      "source": [
        "class TransformerEncoderCls(nn.Module):\n",
        "    def __init__(self, vocab_size, max_length, num_layers, embed_dim, num_heads, ff_dim, dropout=0.1, device='cpu'):\n",
        "        super().__init__()\n",
        "        self.encoder = TransformerEncoder(\n",
        "            vocab_size, embed_dim, max_length, num_layers, num_heads, ff_dim, dropout, device\n",
        "        )\n",
        "        self.pooling = nn.AvgPool1d(kernel_size=max_length)\n",
        "        self.fc1 = nn.Linear(embed_dim, 20)\n",
        "        self.fc2 = nn.Linear(20, 2)\n",
        "        self.relu = nn.ReLU()\n",
        "        self.dropout = nn.Dropout(p=dropout)\n",
        "\n",
        "    def forward(self, x):\n",
        "        output = self.encoder(x)\n",
        "        output = output.permute(0, 2, 1)\n",
        "        output = self.pooling(output).squeeze()\n",
        "        output = self.fc1(output)\n",
        "        output = self.relu(output)\n",
        "        output = self.dropout(output)\n",
        "        output = self.fc2(output)\n",
        "        return output"
      ]
    },
    {
      "cell_type": "markdown",
      "metadata": {
        "id": "Vf9GW1dpB8PT"
      },
      "source": [
        "##**7. Training**"
      ]
    },
    {
      "cell_type": "code",
      "execution_count": 28,
      "metadata": {
        "colab": {
          "base_uri": "https://localhost:8080/"
        },
        "id": "9yiMR-0nB-ao",
        "outputId": "df8792d2-0265-410b-cf69-0dd8f0d14dbd"
      },
      "outputs": [
        {
          "output_type": "stream",
          "name": "stdout",
          "text": [
            "| epoch   1 |    50/  235 batches | accuracy    0.518\n",
            "| epoch   1 |   100/  235 batches | accuracy    0.563\n",
            "| epoch   1 |   150/  235 batches | accuracy    0.601\n",
            "| epoch   1 |   200/  235 batches | accuracy    0.697\n",
            "-----------------------------------------------------------\n",
            "| End of epoch   1 | Time:  7.66s | Train Accuracy    0.719 | Train Loss    0.660 | Valid Accuracy    0.736 | Valid Loss    0.561 \n",
            "-----------------------------------------------------------\n",
            "| epoch   2 |    50/  235 batches | accuracy    0.739\n",
            "| epoch   2 |   100/  235 batches | accuracy    0.765\n",
            "| epoch   2 |   150/  235 batches | accuracy    0.785\n",
            "| epoch   2 |   200/  235 batches | accuracy    0.786\n",
            "-----------------------------------------------------------\n",
            "| End of epoch   2 | Time:  9.02s | Train Accuracy    0.793 | Train Loss    0.489 | Valid Accuracy    0.789 | Valid Loss    0.461 \n",
            "-----------------------------------------------------------\n",
            "| epoch   3 |    50/  235 batches | accuracy    0.799\n",
            "| epoch   3 |   100/  235 batches | accuracy    0.800\n",
            "| epoch   3 |   150/  235 batches | accuracy    0.814\n",
            "| epoch   3 |   200/  235 batches | accuracy    0.803\n",
            "-----------------------------------------------------------\n",
            "| End of epoch   3 | Time:  7.57s | Train Accuracy    0.814 | Train Loss    0.433 | Valid Accuracy    0.803 | Valid Loss    0.438 \n",
            "-----------------------------------------------------------\n",
            "| epoch   4 |    50/  235 batches | accuracy    0.811\n",
            "| epoch   4 |   100/  235 batches | accuracy    0.826\n",
            "| epoch   4 |   150/  235 batches | accuracy    0.815\n",
            "| epoch   4 |   200/  235 batches | accuracy    0.824\n",
            "-----------------------------------------------------------\n",
            "| End of epoch   4 | Time:  7.32s | Train Accuracy    0.829 | Train Loss    0.407 | Valid Accuracy    0.815 | Valid Loss    0.424 \n",
            "-----------------------------------------------------------\n",
            "| epoch   5 |    50/  235 batches | accuracy    0.828\n",
            "| epoch   5 |   100/  235 batches | accuracy    0.832\n",
            "| epoch   5 |   150/  235 batches | accuracy    0.836\n",
            "| epoch   5 |   200/  235 batches | accuracy    0.828\n",
            "-----------------------------------------------------------\n",
            "| End of epoch   5 | Time:  7.45s | Train Accuracy    0.834 | Train Loss    0.386 | Valid Accuracy    0.819 | Valid Loss    0.414 \n",
            "-----------------------------------------------------------\n",
            "| epoch   6 |    50/  235 batches | accuracy    0.843\n",
            "| epoch   6 |   100/  235 batches | accuracy    0.838\n",
            "| epoch   6 |   150/  235 batches | accuracy    0.834\n",
            "| epoch   6 |   200/  235 batches | accuracy    0.846\n",
            "-----------------------------------------------------------\n",
            "| End of epoch   6 | Time:  7.44s | Train Accuracy    0.836 | Train Loss    0.370 | Valid Accuracy    0.828 | Valid Loss    0.400 \n",
            "-----------------------------------------------------------\n",
            "| epoch   7 |    50/  235 batches | accuracy    0.847\n",
            "| epoch   7 |   100/  235 batches | accuracy    0.845\n",
            "| epoch   7 |   150/  235 batches | accuracy    0.844\n",
            "| epoch   7 |   200/  235 batches | accuracy    0.847\n",
            "-----------------------------------------------------------\n",
            "| End of epoch   7 | Time:  7.53s | Train Accuracy    0.849 | Train Loss    0.357 | Valid Accuracy    0.832 | Valid Loss    0.394 \n",
            "-----------------------------------------------------------\n",
            "| epoch   8 |    50/  235 batches | accuracy    0.851\n",
            "| epoch   8 |   100/  235 batches | accuracy    0.853\n",
            "| epoch   8 |   150/  235 batches | accuracy    0.851\n",
            "| epoch   8 |   200/  235 batches | accuracy    0.857\n",
            "-----------------------------------------------------------\n",
            "| End of epoch   8 | Time:  7.62s | Train Accuracy    0.851 | Train Loss    0.347 | Valid Accuracy    0.837 | Valid Loss    0.388 \n",
            "-----------------------------------------------------------\n",
            "| epoch   9 |    50/  235 batches | accuracy    0.862\n",
            "| epoch   9 |   100/  235 batches | accuracy    0.859\n",
            "| epoch   9 |   150/  235 batches | accuracy    0.864\n",
            "| epoch   9 |   200/  235 batches | accuracy    0.854\n",
            "-----------------------------------------------------------\n",
            "| End of epoch   9 | Time:  7.56s | Train Accuracy    0.849 | Train Loss    0.336 | Valid Accuracy    0.839 | Valid Loss    0.384 \n",
            "-----------------------------------------------------------\n",
            "| epoch  10 |    50/  235 batches | accuracy    0.866\n",
            "| epoch  10 |   100/  235 batches | accuracy    0.856\n",
            "| epoch  10 |   150/  235 batches | accuracy    0.871\n",
            "| epoch  10 |   200/  235 batches | accuracy    0.871\n",
            "-----------------------------------------------------------\n",
            "| End of epoch  10 | Time:  7.69s | Train Accuracy    0.864 | Train Loss    0.326 | Valid Accuracy    0.838 | Valid Loss    0.386 \n",
            "-----------------------------------------------------------\n",
            "| epoch  11 |    50/  235 batches | accuracy    0.870\n",
            "| epoch  11 |   100/  235 batches | accuracy    0.865\n",
            "| epoch  11 |   150/  235 batches | accuracy    0.871\n",
            "| epoch  11 |   200/  235 batches | accuracy    0.870\n",
            "-----------------------------------------------------------\n",
            "| End of epoch  11 | Time:  7.75s | Train Accuracy    0.872 | Train Loss    0.317 | Valid Accuracy    0.836 | Valid Loss    0.388 \n",
            "-----------------------------------------------------------\n",
            "| epoch  12 |    50/  235 batches | accuracy    0.874\n",
            "| epoch  12 |   100/  235 batches | accuracy    0.870\n",
            "| epoch  12 |   150/  235 batches | accuracy    0.880\n",
            "| epoch  12 |   200/  235 batches | accuracy    0.873\n",
            "-----------------------------------------------------------\n",
            "| End of epoch  12 | Time:  7.85s | Train Accuracy    0.882 | Train Loss    0.309 | Valid Accuracy    0.840 | Valid Loss    0.385 \n",
            "-----------------------------------------------------------\n",
            "| epoch  13 |    50/  235 batches | accuracy    0.878\n",
            "| epoch  13 |   100/  235 batches | accuracy    0.883\n",
            "| epoch  13 |   150/  235 batches | accuracy    0.881\n",
            "| epoch  13 |   200/  235 batches | accuracy    0.885\n",
            "-----------------------------------------------------------\n",
            "| End of epoch  13 | Time:  7.98s | Train Accuracy    0.873 | Train Loss    0.299 | Valid Accuracy    0.841 | Valid Loss    0.383 \n",
            "-----------------------------------------------------------\n",
            "| epoch  14 |    50/  235 batches | accuracy    0.884\n",
            "| epoch  14 |   100/  235 batches | accuracy    0.883\n",
            "| epoch  14 |   150/  235 batches | accuracy    0.882\n",
            "| epoch  14 |   200/  235 batches | accuracy    0.893\n",
            "-----------------------------------------------------------\n",
            "| End of epoch  14 | Time:  7.62s | Train Accuracy    0.885 | Train Loss    0.289 | Valid Accuracy    0.836 | Valid Loss    0.391 \n",
            "-----------------------------------------------------------\n",
            "| epoch  15 |    50/  235 batches | accuracy    0.893\n",
            "| epoch  15 |   100/  235 batches | accuracy    0.894\n",
            "| epoch  15 |   150/  235 batches | accuracy    0.890\n",
            "| epoch  15 |   200/  235 batches | accuracy    0.889\n",
            "-----------------------------------------------------------\n",
            "| End of epoch  15 | Time:  7.66s | Train Accuracy    0.879 | Train Loss    0.284 | Valid Accuracy    0.841 | Valid Loss    0.386 \n",
            "-----------------------------------------------------------\n",
            "| epoch  16 |    50/  235 batches | accuracy    0.893\n",
            "| epoch  16 |   100/  235 batches | accuracy    0.897\n",
            "| epoch  16 |   150/  235 batches | accuracy    0.892\n",
            "| epoch  16 |   200/  235 batches | accuracy    0.892\n",
            "-----------------------------------------------------------\n",
            "| End of epoch  16 | Time:  7.72s | Train Accuracy    0.896 | Train Loss    0.274 | Valid Accuracy    0.840 | Valid Loss    0.391 \n",
            "-----------------------------------------------------------\n",
            "| epoch  17 |    50/  235 batches | accuracy    0.907\n",
            "| epoch  17 |   100/  235 batches | accuracy    0.898\n",
            "| epoch  17 |   150/  235 batches | accuracy    0.897\n",
            "| epoch  17 |   200/  235 batches | accuracy    0.894\n",
            "-----------------------------------------------------------\n",
            "| End of epoch  17 | Time:  7.59s | Train Accuracy    0.903 | Train Loss    0.263 | Valid Accuracy    0.839 | Valid Loss    0.403 \n",
            "-----------------------------------------------------------\n",
            "| epoch  18 |    50/  235 batches | accuracy    0.906\n",
            "| epoch  18 |   100/  235 batches | accuracy    0.903\n",
            "| epoch  18 |   150/  235 batches | accuracy    0.900\n",
            "| epoch  18 |   200/  235 batches | accuracy    0.912\n",
            "-----------------------------------------------------------\n",
            "| End of epoch  18 | Time:  7.65s | Train Accuracy    0.896 | Train Loss    0.254 | Valid Accuracy    0.834 | Valid Loss    0.403 \n",
            "-----------------------------------------------------------\n",
            "| epoch  19 |    50/  235 batches | accuracy    0.914\n",
            "| epoch  19 |   100/  235 batches | accuracy    0.917\n",
            "| epoch  19 |   150/  235 batches | accuracy    0.911\n",
            "| epoch  19 |   200/  235 batches | accuracy    0.908\n",
            "-----------------------------------------------------------\n",
            "| End of epoch  19 | Time:  7.60s | Train Accuracy    0.897 | Train Loss    0.244 | Valid Accuracy    0.838 | Valid Loss    0.401 \n",
            "-----------------------------------------------------------\n",
            "| epoch  20 |    50/  235 batches | accuracy    0.911\n",
            "| epoch  20 |   100/  235 batches | accuracy    0.915\n",
            "| epoch  20 |   150/  235 batches | accuracy    0.917\n",
            "| epoch  20 |   200/  235 batches | accuracy    0.913\n",
            "-----------------------------------------------------------\n",
            "| End of epoch  20 | Time:  7.66s | Train Accuracy    0.918 | Train Loss    0.235 | Valid Accuracy    0.835 | Valid Loss    0.423 \n",
            "-----------------------------------------------------------\n",
            "| epoch  21 |    50/  235 batches | accuracy    0.925\n",
            "| epoch  21 |   100/  235 batches | accuracy    0.915\n",
            "| epoch  21 |   150/  235 batches | accuracy    0.924\n",
            "| epoch  21 |   200/  235 batches | accuracy    0.914\n",
            "-----------------------------------------------------------\n",
            "| End of epoch  21 | Time:  7.69s | Train Accuracy    0.916 | Train Loss    0.225 | Valid Accuracy    0.834 | Valid Loss    0.426 \n",
            "-----------------------------------------------------------\n",
            "| epoch  22 |    50/  235 batches | accuracy    0.925\n",
            "| epoch  22 |   100/  235 batches | accuracy    0.923\n",
            "| epoch  22 |   150/  235 batches | accuracy    0.927\n",
            "| epoch  22 |   200/  235 batches | accuracy    0.927\n",
            "-----------------------------------------------------------\n",
            "| End of epoch  22 | Time:  7.61s | Train Accuracy    0.926 | Train Loss    0.212 | Valid Accuracy    0.833 | Valid Loss    0.451 \n",
            "-----------------------------------------------------------\n",
            "| epoch  23 |    50/  235 batches | accuracy    0.935\n",
            "| epoch  23 |   100/  235 batches | accuracy    0.928\n",
            "| epoch  23 |   150/  235 batches | accuracy    0.928\n",
            "| epoch  23 |   200/  235 batches | accuracy    0.931\n",
            "-----------------------------------------------------------\n",
            "| End of epoch  23 | Time:  7.70s | Train Accuracy    0.931 | Train Loss    0.204 | Valid Accuracy    0.833 | Valid Loss    0.462 \n",
            "-----------------------------------------------------------\n",
            "| epoch  24 |    50/  235 batches | accuracy    0.944\n",
            "| epoch  24 |   100/  235 batches | accuracy    0.940\n",
            "| epoch  24 |   150/  235 batches | accuracy    0.934\n",
            "| epoch  24 |   200/  235 batches | accuracy    0.930\n",
            "-----------------------------------------------------------\n",
            "| End of epoch  24 | Time:  7.70s | Train Accuracy    0.933 | Train Loss    0.191 | Valid Accuracy    0.832 | Valid Loss    0.468 \n",
            "-----------------------------------------------------------\n",
            "| epoch  25 |    50/  235 batches | accuracy    0.942\n",
            "| epoch  25 |   100/  235 batches | accuracy    0.943\n",
            "| epoch  25 |   150/  235 batches | accuracy    0.941\n",
            "| epoch  25 |   200/  235 batches | accuracy    0.937\n",
            "-----------------------------------------------------------\n",
            "| End of epoch  25 | Time:  7.65s | Train Accuracy    0.939 | Train Loss    0.182 | Valid Accuracy    0.831 | Valid Loss    0.473 \n",
            "-----------------------------------------------------------\n",
            "| epoch  26 |    50/  235 batches | accuracy    0.948\n",
            "| epoch  26 |   100/  235 batches | accuracy    0.945\n",
            "| epoch  26 |   150/  235 batches | accuracy    0.946\n",
            "| epoch  26 |   200/  235 batches | accuracy    0.945\n",
            "-----------------------------------------------------------\n",
            "| End of epoch  26 | Time:  7.69s | Train Accuracy    0.946 | Train Loss    0.169 | Valid Accuracy    0.828 | Valid Loss    0.522 \n",
            "-----------------------------------------------------------\n",
            "| epoch  27 |    50/  235 batches | accuracy    0.948\n",
            "| epoch  27 |   100/  235 batches | accuracy    0.945\n",
            "| epoch  27 |   150/  235 batches | accuracy    0.951\n",
            "| epoch  27 |   200/  235 batches | accuracy    0.950\n",
            "-----------------------------------------------------------\n",
            "| End of epoch  27 | Time:  7.62s | Train Accuracy    0.952 | Train Loss    0.160 | Valid Accuracy    0.829 | Valid Loss    0.524 \n",
            "-----------------------------------------------------------\n",
            "| epoch  28 |    50/  235 batches | accuracy    0.957\n",
            "| epoch  28 |   100/  235 batches | accuracy    0.955\n",
            "| epoch  28 |   150/  235 batches | accuracy    0.950\n",
            "| epoch  28 |   200/  235 batches | accuracy    0.953\n",
            "-----------------------------------------------------------\n",
            "| End of epoch  28 | Time:  7.70s | Train Accuracy    0.952 | Train Loss    0.150 | Valid Accuracy    0.826 | Valid Loss    0.551 \n",
            "-----------------------------------------------------------\n",
            "| epoch  29 |    50/  235 batches | accuracy    0.964\n",
            "| epoch  29 |   100/  235 batches | accuracy    0.959\n",
            "| epoch  29 |   150/  235 batches | accuracy    0.956\n",
            "| epoch  29 |   200/  235 batches | accuracy    0.955\n",
            "-----------------------------------------------------------\n",
            "| End of epoch  29 | Time:  7.73s | Train Accuracy    0.953 | Train Loss    0.140 | Valid Accuracy    0.826 | Valid Loss    0.554 \n",
            "-----------------------------------------------------------\n",
            "| epoch  30 |    50/  235 batches | accuracy    0.960\n",
            "| epoch  30 |   100/  235 batches | accuracy    0.961\n",
            "| epoch  30 |   150/  235 batches | accuracy    0.967\n",
            "| epoch  30 |   200/  235 batches | accuracy    0.961\n",
            "-----------------------------------------------------------\n",
            "| End of epoch  30 | Time:  7.61s | Train Accuracy    0.963 | Train Loss    0.131 | Valid Accuracy    0.826 | Valid Loss    0.587 \n",
            "-----------------------------------------------------------\n",
            "| epoch  31 |    50/  235 batches | accuracy    0.968\n",
            "| epoch  31 |   100/  235 batches | accuracy    0.967\n",
            "| epoch  31 |   150/  235 batches | accuracy    0.968\n",
            "| epoch  31 |   200/  235 batches | accuracy    0.962\n",
            "-----------------------------------------------------------\n",
            "| End of epoch  31 | Time:  7.69s | Train Accuracy    0.967 | Train Loss    0.120 | Valid Accuracy    0.822 | Valid Loss    0.648 \n",
            "-----------------------------------------------------------\n",
            "| epoch  32 |    50/  235 batches | accuracy    0.971\n",
            "| epoch  32 |   100/  235 batches | accuracy    0.971\n",
            "| epoch  32 |   150/  235 batches | accuracy    0.970\n",
            "| epoch  32 |   200/  235 batches | accuracy    0.967\n",
            "-----------------------------------------------------------\n",
            "| End of epoch  32 | Time:  7.63s | Train Accuracy    0.967 | Train Loss    0.113 | Valid Accuracy    0.823 | Valid Loss    0.645 \n",
            "-----------------------------------------------------------\n",
            "| epoch  33 |    50/  235 batches | accuracy    0.974\n",
            "| epoch  33 |   100/  235 batches | accuracy    0.972\n",
            "| epoch  33 |   150/  235 batches | accuracy    0.964\n",
            "| epoch  33 |   200/  235 batches | accuracy    0.971\n",
            "-----------------------------------------------------------\n",
            "| End of epoch  33 | Time:  7.68s | Train Accuracy    0.974 | Train Loss    0.107 | Valid Accuracy    0.822 | Valid Loss    0.688 \n",
            "-----------------------------------------------------------\n",
            "| epoch  34 |    50/  235 batches | accuracy    0.979\n",
            "| epoch  34 |   100/  235 batches | accuracy    0.978\n",
            "| epoch  34 |   150/  235 batches | accuracy    0.973\n",
            "| epoch  34 |   200/  235 batches | accuracy    0.971\n",
            "-----------------------------------------------------------\n",
            "| End of epoch  34 | Time:  7.69s | Train Accuracy    0.973 | Train Loss    0.098 | Valid Accuracy    0.823 | Valid Loss    0.681 \n",
            "-----------------------------------------------------------\n",
            "| epoch  35 |    50/  235 batches | accuracy    0.979\n",
            "| epoch  35 |   100/  235 batches | accuracy    0.978\n",
            "| epoch  35 |   150/  235 batches | accuracy    0.977\n",
            "| epoch  35 |   200/  235 batches | accuracy    0.979\n",
            "-----------------------------------------------------------\n",
            "| End of epoch  35 | Time:  7.60s | Train Accuracy    0.975 | Train Loss    0.091 | Valid Accuracy    0.823 | Valid Loss    0.720 \n",
            "-----------------------------------------------------------\n",
            "| epoch  36 |    50/  235 batches | accuracy    0.979\n",
            "| epoch  36 |   100/  235 batches | accuracy    0.978\n",
            "| epoch  36 |   150/  235 batches | accuracy    0.980\n",
            "| epoch  36 |   200/  235 batches | accuracy    0.977\n",
            "-----------------------------------------------------------\n",
            "| End of epoch  36 | Time:  7.69s | Train Accuracy    0.978 | Train Loss    0.086 | Valid Accuracy    0.820 | Valid Loss    0.772 \n",
            "-----------------------------------------------------------\n",
            "| epoch  37 |    50/  235 batches | accuracy    0.982\n",
            "| epoch  37 |   100/  235 batches | accuracy    0.986\n",
            "| epoch  37 |   150/  235 batches | accuracy    0.979\n",
            "| epoch  37 |   200/  235 batches | accuracy    0.981\n",
            "-----------------------------------------------------------\n",
            "| End of epoch  37 | Time:  7.68s | Train Accuracy    0.977 | Train Loss    0.078 | Valid Accuracy    0.821 | Valid Loss    0.755 \n",
            "-----------------------------------------------------------\n",
            "| epoch  38 |    50/  235 batches | accuracy    0.984\n",
            "| epoch  38 |   100/  235 batches | accuracy    0.982\n",
            "| epoch  38 |   150/  235 batches | accuracy    0.981\n",
            "| epoch  38 |   200/  235 batches | accuracy    0.981\n",
            "-----------------------------------------------------------\n",
            "| End of epoch  38 | Time:  7.65s | Train Accuracy    0.980 | Train Loss    0.075 | Valid Accuracy    0.818 | Valid Loss    0.816 \n",
            "-----------------------------------------------------------\n",
            "| epoch  39 |    50/  235 batches | accuracy    0.982\n",
            "| epoch  39 |   100/  235 batches | accuracy    0.980\n",
            "| epoch  39 |   150/  235 batches | accuracy    0.980\n",
            "| epoch  39 |   200/  235 batches | accuracy    0.977\n",
            "-----------------------------------------------------------\n",
            "| End of epoch  39 | Time:  7.68s | Train Accuracy    0.980 | Train Loss    0.077 | Valid Accuracy    0.819 | Valid Loss    0.780 \n",
            "-----------------------------------------------------------\n",
            "| epoch  40 |    50/  235 batches | accuracy    0.983\n",
            "| epoch  40 |   100/  235 batches | accuracy    0.986\n",
            "| epoch  40 |   150/  235 batches | accuracy    0.985\n",
            "| epoch  40 |   200/  235 batches | accuracy    0.981\n",
            "-----------------------------------------------------------\n",
            "| End of epoch  40 | Time:  7.60s | Train Accuracy    0.979 | Train Loss    0.071 | Valid Accuracy    0.818 | Valid Loss    0.811 \n",
            "-----------------------------------------------------------\n",
            "| epoch  41 |    50/  235 batches | accuracy    0.987\n",
            "| epoch  41 |   100/  235 batches | accuracy    0.982\n",
            "| epoch  41 |   150/  235 batches | accuracy    0.986\n",
            "| epoch  41 |   200/  235 batches | accuracy    0.985\n",
            "-----------------------------------------------------------\n",
            "| End of epoch  41 | Time:  7.68s | Train Accuracy    0.985 | Train Loss    0.064 | Valid Accuracy    0.818 | Valid Loss    0.878 \n",
            "-----------------------------------------------------------\n",
            "| epoch  42 |    50/  235 batches | accuracy    0.987\n",
            "| epoch  42 |   100/  235 batches | accuracy    0.986\n",
            "| epoch  42 |   150/  235 batches | accuracy    0.988\n",
            "| epoch  42 |   200/  235 batches | accuracy    0.985\n",
            "-----------------------------------------------------------\n",
            "| End of epoch  42 | Time:  7.76s | Train Accuracy    0.985 | Train Loss    0.060 | Valid Accuracy    0.817 | Valid Loss    0.888 \n",
            "-----------------------------------------------------------\n",
            "| epoch  43 |    50/  235 batches | accuracy    0.990\n",
            "| epoch  43 |   100/  235 batches | accuracy    0.986\n",
            "| epoch  43 |   150/  235 batches | accuracy    0.988\n",
            "| epoch  43 |   200/  235 batches | accuracy    0.987\n",
            "-----------------------------------------------------------\n",
            "| End of epoch  43 | Time:  7.66s | Train Accuracy    0.982 | Train Loss    0.058 | Valid Accuracy    0.817 | Valid Loss    0.915 \n",
            "-----------------------------------------------------------\n",
            "| epoch  44 |    50/  235 batches | accuracy    0.987\n",
            "| epoch  44 |   100/  235 batches | accuracy    0.989\n",
            "| epoch  44 |   150/  235 batches | accuracy    0.985\n",
            "| epoch  44 |   200/  235 batches | accuracy    0.986\n",
            "-----------------------------------------------------------\n",
            "| End of epoch  44 | Time:  7.70s | Train Accuracy    0.987 | Train Loss    0.056 | Valid Accuracy    0.820 | Valid Loss    0.953 \n",
            "-----------------------------------------------------------\n",
            "| epoch  45 |    50/  235 batches | accuracy    0.990\n",
            "| epoch  45 |   100/  235 batches | accuracy    0.989\n",
            "| epoch  45 |   150/  235 batches | accuracy    0.985\n",
            "| epoch  45 |   200/  235 batches | accuracy    0.988\n",
            "-----------------------------------------------------------\n",
            "| End of epoch  45 | Time:  7.60s | Train Accuracy    0.990 | Train Loss    0.050 | Valid Accuracy    0.817 | Valid Loss    1.031 \n",
            "-----------------------------------------------------------\n",
            "| epoch  46 |    50/  235 batches | accuracy    0.989\n",
            "| epoch  46 |   100/  235 batches | accuracy    0.988\n",
            "| epoch  46 |   150/  235 batches | accuracy    0.988\n",
            "| epoch  46 |   200/  235 batches | accuracy    0.987\n",
            "-----------------------------------------------------------\n",
            "| End of epoch  46 | Time:  7.70s | Train Accuracy    0.982 | Train Loss    0.052 | Valid Accuracy    0.815 | Valid Loss    0.960 \n",
            "-----------------------------------------------------------\n",
            "| epoch  47 |    50/  235 batches | accuracy    0.989\n",
            "| epoch  47 |   100/  235 batches | accuracy    0.991\n",
            "| epoch  47 |   150/  235 batches | accuracy    0.988\n",
            "| epoch  47 |   200/  235 batches | accuracy    0.990\n",
            "-----------------------------------------------------------\n",
            "| End of epoch  47 | Time:  7.77s | Train Accuracy    0.987 | Train Loss    0.049 | Valid Accuracy    0.816 | Valid Loss    0.972 \n",
            "-----------------------------------------------------------\n",
            "| epoch  48 |    50/  235 batches | accuracy    0.989\n",
            "| epoch  48 |   100/  235 batches | accuracy    0.993\n",
            "| epoch  48 |   150/  235 batches | accuracy    0.990\n",
            "| epoch  48 |   200/  235 batches | accuracy    0.989\n",
            "-----------------------------------------------------------\n",
            "| End of epoch  48 | Time:  7.63s | Train Accuracy    0.987 | Train Loss    0.046 | Valid Accuracy    0.815 | Valid Loss    1.086 \n",
            "-----------------------------------------------------------\n",
            "| epoch  49 |    50/  235 batches | accuracy    0.991\n",
            "| epoch  49 |   100/  235 batches | accuracy    0.991\n",
            "| epoch  49 |   150/  235 batches | accuracy    0.989\n",
            "| epoch  49 |   200/  235 batches | accuracy    0.991\n",
            "-----------------------------------------------------------\n",
            "| End of epoch  49 | Time:  7.71s | Train Accuracy    0.989 | Train Loss    0.043 | Valid Accuracy    0.814 | Valid Loss    1.088 \n",
            "-----------------------------------------------------------\n",
            "| epoch  50 |    50/  235 batches | accuracy    0.992\n",
            "| epoch  50 |   100/  235 batches | accuracy    0.989\n",
            "| epoch  50 |   150/  235 batches | accuracy    0.992\n",
            "| epoch  50 |   200/  235 batches | accuracy    0.990\n",
            "-----------------------------------------------------------\n",
            "| End of epoch  50 | Time:  7.64s | Train Accuracy    0.991 | Train Loss    0.042 | Valid Accuracy    0.814 | Valid Loss    1.082 \n",
            "-----------------------------------------------------------\n"
          ]
        }
      ],
      "source": [
        "import torch.optim as optim\n",
        "import os\n",
        "\n",
        "\n",
        "vocab_size = 10000\n",
        "max_length = 100\n",
        "embed_dim = 200\n",
        "num_layers = 2\n",
        "num_heads = 4\n",
        "ff_dim = 128\n",
        "dropout =0.1\n",
        "\n",
        "device = torch.device('cuda' if torch.cuda.is_available() else 'cpu')\n",
        "\n",
        "model = TransformerEncoderCls(\n",
        "    vocab_size, max_length, num_layers, embed_dim, num_heads, ff_dim, dropout, device\n",
        ").to(device)\n",
        "\n",
        "criterion = torch.nn.CrossEntropyLoss()\n",
        "optimizer = optim.Adam(model.parameters(), lr=5e-5)\n",
        "\n",
        "num_epochs = 50\n",
        "save_model = './model'\n",
        "os.makedirs(save_model, exist_ok = True)\n",
        "model_name = 'model'\n",
        "\n",
        "model, metrics = train(\n",
        "    model, model_name, save_model, optimizer, criterion, train_dataloader, valid_dataloader, num_epochs, device\n",
        ")"
      ]
    },
    {
      "cell_type": "code",
      "execution_count": 29,
      "metadata": {
        "colab": {
          "base_uri": "https://localhost:8080/",
          "height": 506
        },
        "id": "ta6k90oHIvOR",
        "outputId": "c4bae035-d097-4f3f-d95d-e0448d24e28e"
      },
      "outputs": [
        {
          "output_type": "display_data",
          "data": {
            "text/plain": [
              "<Figure size 1200x600 with 2 Axes>"
            ],
            "image/png": "[encoded data removed]"
          },
          "metadata": {}
        }
      ],
      "source": [
        "plot_result(\n",
        "    num_epochs,\n",
        "    metrics[\"train_accuracy\"],\n",
        "    metrics[\"valid_accuracy\"],\n",
        "    metrics[\"train_loss\"],\n",
        "    metrics[\"valid_loss\"]\n",
        ")"
      ]
    },
    {
      "cell_type": "code",
      "execution_count": 30,
      "metadata": {
        "colab": {
          "base_uri": "https://localhost:8080/"
        },
        "id": "ypREQ2FiJE1x",
        "outputId": "2fb20251-cee5-4cbb-b1c3-333b3c14f4f1"
      },
      "outputs": [
        {
          "output_type": "execute_result",
          "data": {
            "text/plain": [
              "(0.8193, 1.0294049714185014)"
            ]
          },
          "metadata": {},
          "execution_count": 30
        }
      ],
      "source": [
        "test_acc, test_loss = evaluate_epoch(model, criterion, test_dataloader, device)\n",
        "test_acc, test_loss"
      ]
    },
    {
      "cell_type": "markdown",
      "metadata": {
        "id": "hdYC4qcP-Ij7"
      },
      "source": [
        "#**Text Classification using BERT**"
      ]
    },
    {
      "cell_type": "markdown",
      "metadata": {
        "id": "aM_HdmL-877L"
      },
      "source": [
        "##**1. Load Dataset**"
      ]
    },
    {
      "cell_type": "code",
      "execution_count": 9,
      "metadata": {
        "id": "4EosXtlufQmm"
      },
      "outputs": [],
      "source": [
        "! pip install -q -U transformers datasets accelerate evaluate\n",
        "\n",
        "from datasets import load_dataset\n",
        "\n",
        "ds = load_dataset('thainq107/ntc-scv')"
      ]
    },
    {
      "cell_type": "markdown",
      "metadata": {
        "id": "jFdCe6-_9B4x"
      },
      "source": [
        "##**2. Preprocessing**"
      ]
    },
    {
      "cell_type": "code",
      "execution_count": 2,
      "metadata": {
        "id": "iefjYeL422ga",
        "colab": {
          "base_uri": "https://localhost:8080/"
        },
        "outputId": "f8eb13c6-7b32-4ec6-e1f1-05042fede82c"
      },
      "outputs": [
        {
          "output_type": "stream",
          "name": "stderr",
          "text": [
            "/usr/local/lib/python3.10/dist-packages/huggingface_hub/utils/_auth.py:94: UserWarning: \n",
            "The secret `HF_TOKEN` does not exist in your Colab secrets.\n",
            "To authenticate with the Hugging Face Hub, create a token in your settings tab (https://huggingface.co/settings/tokens), set it as secret in your Google Colab and restart your session.\n",
            "You will be able to reuse this secret in all of your notebooks.\n",
            "Please note that authentication is recommended but still optional to access public models or datasets.\n",
            "  warnings.warn(\n"
          ]
        }
      ],
      "source": [
        "from transformers import AutoTokenizer\n",
        "\n",
        "model_name = \"distilbert-base-uncased\" # bert-base-uncased\n",
        "\n",
        "tokenizer = AutoTokenizer.from_pretrained(\n",
        "    model_name,\n",
        "    use_fast=True\n",
        ")"
      ]
    },
    {
      "cell_type": "code",
      "execution_count": 3,
      "metadata": {
        "id": "KJtMa0Rc9lw1"
      },
      "outputs": [],
      "source": [
        "max_seq_length = 100\n",
        "max_seq_length = min(max_seq_length, tokenizer.model_max_length)\n",
        "\n",
        "def preprocess_function(examples):\n",
        "    # Tokenize the texts\n",
        "    result = tokenizer(\n",
        "        examples[\"preprocessed_sentence\"],\n",
        "        padding=\"max_length\",\n",
        "        max_length=max_seq_length,\n",
        "        truncation=True\n",
        "    )\n",
        "    result[\"label\"] = examples['label']\n",
        "\n",
        "    return result"
      ]
    },
    {
      "cell_type": "code",
      "execution_count": 10,
      "metadata": {
        "id": "Z07eKnrN-KqG"
      },
      "outputs": [],
      "source": [
        "# Running the preprocessing pipeline on all the datasets\n",
        "processed_dataset = ds.map(\n",
        "    preprocess_function,\n",
        "    batched=True,\n",
        "    desc=\"Running tokenizer on dataset\",\n",
        ")"
      ]
    },
    {
      "cell_type": "markdown",
      "metadata": {
        "id": "P6qNK9hT9LGI"
      },
      "source": [
        "##**3. Modeling**"
      ]
    },
    {
      "source": [
        "!pip install --upgrade torchvision torchaudio --extra-index-url https://download.pytorch.org/whl/cu118"
      ],
      "cell_type": "code",
      "metadata": {
        "colab": {
          "base_uri": "https://localhost:8080/",
          "height": 862
        },
        "id": "jbHZVNkf8U0a",
        "outputId": "6ab8dd36-c9c5-48cc-a8bb-3399c489da48"
      },
      "execution_count": 18,
      "outputs": [
        {
          "output_type": "stream",
          "name": "stdout",
          "text": [
            "Looking in indexes: https://pypi.org/simple, https://download.pytorch.org/whl/cu118\n",
            "Requirement already satisfied: torchvision in /usr/local/lib/python3.10/dist-packages (0.17.2+cu118)\n",
            "Collecting torchvision\n",
            "  Downloading https://download.pytorch.org/whl/cu118/torchvision-0.20.1%2Bcu118-cp310-cp310-linux_x86_64.whl (6.5 MB)\n",
            "\u001b[2K     \u001b[90m━━━━━━━━━━━━━━━━━━━━━━━━━━━━━━━━━━━━━━━━\u001b[0m \u001b[32m6.5/6.5 MB\u001b[0m \u001b[31m58.4 MB/s\u001b[0m eta \u001b[36m0:00:00\u001b[0m\n",
            "\u001b[?25hRequirement already satisfied: torchaudio in /usr/local/lib/python3.10/dist-packages (2.5.1+cu121)\n",
            "Requirement already satisfied: numpy in /usr/local/lib/python3.10/dist-packages (from torchvision) (1.26.4)\n",
            "Collecting torch==2.5.1 (from torchvision)\n",
            "  Using cached https://download.pytorch.org/whl/cu118/torch-2.5.1%2Bcu118-cp310-cp310-linux_x86_64.whl (838.3 MB)\n",
            "Requirement already satisfied: pillow!=8.3.*,>=5.3.0 in /usr/local/lib/python3.10/dist-packages (from torchvision) (11.0.0)\n",
            "Requirement already satisfied: filelock in /usr/local/lib/python3.10/dist-packages (from torch==2.5.1->torchvision) (3.16.1)\n",
            "Requirement already satisfied: typing-extensions>=4.8.0 in /usr/local/lib/python3.10/dist-packages (from torch==2.5.1->torchvision) (4.12.2)\n",
            "Requirement already satisfied: networkx in /usr/local/lib/python3.10/dist-packages (from torch==2.5.1->torchvision) (3.4.2)\n",
            "Requirement already satisfied: jinja2 in /usr/local/lib/python3.10/dist-packages (from torch==2.5.1->torchvision) (3.1.4)\n",
            "Requirement already satisfied: fsspec in /usr/local/lib/python3.10/dist-packages (from torch==2.5.1->torchvision) (2024.9.0)\n",
            "Requirement already satisfied: nvidia-cuda-nvrtc-cu11==11.8.89 in /usr/local/lib/python3.10/dist-packages (from torch==2.5.1->torchvision) (11.8.89)\n",
            "Requirement already satisfied: nvidia-cuda-runtime-cu11==11.8.89 in /usr/local/lib/python3.10/dist-packages (from torch==2.5.1->torchvision) (11.8.89)\n",
            "Requirement already satisfied: nvidia-cuda-cupti-cu11==11.8.87 in /usr/local/lib/python3.10/dist-packages (from torch==2.5.1->torchvision) (11.8.87)\n",
            "Requirement already satisfied: nvidia-cudnn-cu11==9.1.0.70 in /usr/local/lib/python3.10/dist-packages (from torch==2.5.1->torchvision) (9.1.0.70)\n",
            "Requirement already satisfied: nvidia-cublas-cu11==11.11.3.6 in /usr/local/lib/python3.10/dist-packages (from torch==2.5.1->torchvision) (11.11.3.6)\n",
            "Requirement already satisfied: nvidia-cufft-cu11==10.9.0.58 in /usr/local/lib/python3.10/dist-packages (from torch==2.5.1->torchvision) (10.9.0.58)\n",
            "Requirement already satisfied: nvidia-curand-cu11==10.3.0.86 in /usr/local/lib/python3.10/dist-packages (from torch==2.5.1->torchvision) (10.3.0.86)\n",
            "Requirement already satisfied: nvidia-cusolver-cu11==11.4.1.48 in /usr/local/lib/python3.10/dist-packages (from torch==2.5.1->torchvision) (11.4.1.48)\n",
            "Requirement already satisfied: nvidia-cusparse-cu11==11.7.5.86 in /usr/local/lib/python3.10/dist-packages (from torch==2.5.1->torchvision) (11.7.5.86)\n",
            "Requirement already satisfied: nvidia-nccl-cu11==2.21.5 in /usr/local/lib/python3.10/dist-packages (from torch==2.5.1->torchvision) (2.21.5)\n",
            "Requirement already satisfied: nvidia-nvtx-cu11==11.8.86 in /usr/local/lib/python3.10/dist-packages (from torch==2.5.1->torchvision) (11.8.86)\n",
            "Requirement already satisfied: triton==3.1.0 in /usr/local/lib/python3.10/dist-packages (from torch==2.5.1->torchvision) (3.1.0)\n",
            "Requirement already satisfied: sympy==1.13.1 in /usr/local/lib/python3.10/dist-packages (from torch==2.5.1->torchvision) (1.13.1)\n",
            "Requirement already satisfied: mpmath<1.4,>=1.1.0 in /usr/local/lib/python3.10/dist-packages (from sympy==1.13.1->torch==2.5.1->torchvision) (1.3.0)\n",
            "Requirement already satisfied: MarkupSafe>=2.0 in /usr/local/lib/python3.10/dist-packages (from jinja2->torch==2.5.1->torchvision) (3.0.2)\n",
            "Installing collected packages: torch, torchvision\n",
            "  Attempting uninstall: torch\n",
            "    Found existing installation: torch 2.2.2+rocm5.7\n",
            "    Uninstalling torch-2.2.2+rocm5.7:\n",
            "      Successfully uninstalled torch-2.2.2+rocm5.7\n",
            "  Attempting uninstall: torchvision\n",
            "    Found existing installation: torchvision 0.17.2+cu118\n",
            "    Uninstalling torchvision-0.17.2+cu118:\n",
            "      Successfully uninstalled torchvision-0.17.2+cu118\n",
            "\u001b[31mERROR: pip's dependency resolver does not currently take into account all the packages that are installed. This behaviour is the source of the following dependency conflicts.\n",
            "torchtext 0.17.2 requires torch==2.2.2, but you have torch 2.5.1+cu118 which is incompatible.\u001b[0m\u001b[31m\n",
            "\u001b[0mSuccessfully installed torch-2.5.1+cu118 torchvision-0.20.1+cu118\n"
          ]
        },
        {
          "output_type": "display_data",
          "data": {
            "application/vnd.colab-display-data+json": {
              "pip_warning": {
                "packages": [
                  "torch",
                  "torchgen"
                ]
              },
              "id": "d4791841d41a4bbeaa6d7a514b0957e2"
            }
          },
          "metadata": {}
        }
      ]
    },
    {
      "cell_type": "code",
      "execution_count": 5,
      "metadata": {
        "colab": {
          "base_uri": "https://localhost:8080/",
          "height": 104,
          "referenced_widgets": [
            "a50f807edd694f868402cc05cc92c811",
            "f4e3f2e4391244538affa1d588da32c2",
            "f06608f1a2ee4896b9bf8b92af1f3fe9",
            "05f843aba27d4ede835ffcb96b3fc6a3",
            "3528edbd965f479faf1569b8b1341bc4",
            "9c369c3cd89442589110b11cb6aa830e",
            "9adb804619324b7987bd0ae61aaf265e",
            "dc702162382a4baea32aaf7b565b6427",
            "89892cadc734485ba723282e365322ed",
            "a6400afe81a74b019ec73f153c774710",
            "43106e96376c4b7d9c632bcda3095111"
          ]
        },
        "id": "NQOsy5-V9NfU",
        "outputId": "a365e722-c20d-4dc2-9336-f4b17c68c53a"
      },
      "outputs": [
        {
          "output_type": "display_data",
          "data": {
            "text/plain": [
              "model.safetensors:   0%|          | 0.00/268M [00:00<?, ?B/s]"
            ],
            "application/vnd.jupyter.widget-view+json": {
              "version_major": 2,
              "version_minor": 0,
              "model_id": "a50f807edd694f868402cc05cc92c811"
            }
          },
          "metadata": {}
        },
        {
          "output_type": "stream",
          "name": "stderr",
          "text": [
            "Some weights of DistilBertForSequenceClassification were not initialized from the model checkpoint at distilbert-base-uncased and are newly initialized: ['classifier.bias', 'classifier.weight', 'pre_classifier.bias', 'pre_classifier.weight']\n",
            "You should probably TRAIN this model on a down-stream task to be able to use it for predictions and inference.\n"
          ]
        }
      ],
      "source": [
        "from transformers import AutoConfig, AutoModelForSequenceClassification\n",
        "\n",
        "num_labels = 2\n",
        "\n",
        "config = AutoConfig.from_pretrained(\n",
        "    model_name,\n",
        "    num_labels=num_labels,\n",
        "    finetuning_task=\"text-classification\"\n",
        ")\n",
        "model = AutoModelForSequenceClassification.from_pretrained(\n",
        "    model_name,\n",
        "    config=config\n",
        ")"
      ]
    },
    {
      "cell_type": "markdown",
      "metadata": {
        "id": "nOmxsH8D-rjy"
      },
      "source": [
        "##**4. Metric**"
      ]
    },
    {
      "cell_type": "code",
      "execution_count": 6,
      "metadata": {
        "id": "MG0LKHkp-t_S",
        "colab": {
          "base_uri": "https://localhost:8080/",
          "height": 49,
          "referenced_widgets": [
            "f93a3930d259416889c2ea2251817cf4",
            "670374d2dd6c47108706e07f1ef4e3fe",
            "29544acfc6b248a09e5cd6afa9520957",
            "b1a88b3b724b4a829c597684950cbfdc",
            "41a411b502874ca6ae3f67d8f10ec3ab",
            "4a8e06be38d042939e2b044a304dd75a",
            "0da310b786404b0e98b6e96191510f5f",
            "b392dcf76ff14471bdccaca564649fd3",
            "a16ba6421566478ba1f6b35e4991ef98",
            "017f93ef5fb345b589306dfed85082a4",
            "cbb4a88d60e64c8bb22bc8837c19deea"
          ]
        },
        "outputId": "e4fa1465-f81e-4fae-d4c2-1d257668329c"
      },
      "outputs": [
        {
          "output_type": "display_data",
          "data": {
            "text/plain": [
              "Downloading builder script:   0%|          | 0.00/4.20k [00:00<?, ?B/s]"
            ],
            "application/vnd.jupyter.widget-view+json": {
              "version_major": 2,
              "version_minor": 0,
              "model_id": "f93a3930d259416889c2ea2251817cf4"
            }
          },
          "metadata": {}
        }
      ],
      "source": [
        "import numpy as np\n",
        "import evaluate\n",
        "\n",
        "metric = evaluate.load(\"accuracy\")\n",
        "def compute_metrics(eval_pred):\n",
        "    predictions, labels = eval_pred\n",
        "    predictions = np.argmax(predictions, axis=1)\n",
        "    result = metric.compute(predictions=predictions, references=labels)\n",
        "    return result"
      ]
    },
    {
      "cell_type": "markdown",
      "metadata": {
        "id": "UP4hXEfG_CtY"
      },
      "source": [
        "##**5. Trainer**"
      ]
    },
    {
      "cell_type": "code",
      "execution_count": 11,
      "metadata": {
        "id": "RNuVNnnJ_Opc",
        "colab": {
          "base_uri": "https://localhost:8080/",
          "height": 739
        },
        "outputId": "7e52b7ce-d9b5-43b8-d7b9-cfa10c943690"
      },
      "outputs": [
        {
          "output_type": "stream",
          "name": "stderr",
          "text": [
            "/usr/local/lib/python3.10/dist-packages/transformers/training_args.py:1575: FutureWarning: `evaluation_strategy` is deprecated and will be removed in version 4.46 of 🤗 Transformers. Use `eval_strategy` instead\n",
            "  warnings.warn(\n",
            "<ipython-input-11-b8f6eca38936>:14: FutureWarning: `tokenizer` is deprecated and will be removed in version 5.0.0 for `Trainer.__init__`. Use `processing_class` instead.\n",
            "  trainer = Trainer(\n",
            "\u001b[34m\u001b[1mwandb\u001b[0m: \u001b[33mWARNING\u001b[0m The `run_name` is currently set to the same value as `TrainingArguments.output_dir`. If this was not intended, please specify a different run name by setting the `TrainingArguments.run_name` parameter.\n",
            "\u001b[34m\u001b[1mwandb\u001b[0m: Using wandb-core as the SDK backend.  Please refer to https://wandb.me/wandb-core for more information.\n"
          ]
        },
        {
          "output_type": "display_data",
          "data": {
            "text/plain": [
              "<IPython.core.display.Javascript object>"
            ],
            "application/javascript": [
              "\n",
              "        window._wandbApiKey = new Promise((resolve, reject) => {\n",
              "            function loadScript(url) {\n",
              "            return new Promise(function(resolve, reject) {\n",
              "                let newScript = document.createElement(\"script\");\n",
              "                newScript.onerror = reject;\n",
              "                newScript.onload = resolve;\n",
              "                document.body.appendChild(newScript);\n",
              "                newScript.src = url;\n",
              "            });\n",
              "            }\n",
              "            loadScript(\"https://cdn.jsdelivr.net/npm/postmate/build/postmate.min.js\").then(() => {\n",
              "            const iframe = document.createElement('iframe')\n",
              "            iframe.style.cssText = \"width:0;height:0;border:none\"\n",
              "            document.body.appendChild(iframe)\n",
              "            const handshake = new Postmate({\n",
              "                container: iframe,\n",
              "                url: 'https://wandb.ai/authorize'\n",
              "            });\n",
              "            const timeout = setTimeout(() => reject(\"Couldn't auto authenticate\"), 5000)\n",
              "            handshake.then(function(child) {\n",
              "                child.on('authorize', data => {\n",
              "                    clearTimeout(timeout)\n",
              "                    resolve(data)\n",
              "                });\n",
              "            });\n",
              "            })\n",
              "        });\n",
              "    "
            ]
          },
          "metadata": {}
        },
        {
          "output_type": "stream",
          "name": "stderr",
          "text": [
            "\u001b[34m\u001b[1mwandb\u001b[0m: Logging into wandb.ai. (Learn how to deploy a W&B server locally: https://wandb.me/wandb-server)\n",
            "\u001b[34m\u001b[1mwandb\u001b[0m: You can find your API key in your browser here: https://wandb.ai/authorize\n",
            "wandb: Paste an API key from your profile and hit enter, or press ctrl+c to quit:"
          ]
        },
        {
          "name": "stdout",
          "output_type": "stream",
          "text": [
            " ··········\n"
          ]
        },
        {
          "output_type": "stream",
          "name": "stderr",
          "text": [
            "\u001b[34m\u001b[1mwandb\u001b[0m: Appending key for api.wandb.ai to your netrc file: /root/.netrc\n"
          ]
        },
        {
          "output_type": "display_data",
          "data": {
            "text/plain": [
              "<IPython.core.display.HTML object>"
            ],
            "text/html": [
              "Tracking run with wandb version 0.19.1"
            ]
          },
          "metadata": {}
        },
        {
          "output_type": "display_data",
          "data": {
            "text/plain": [
              "<IPython.core.display.HTML object>"
            ],
            "text/html": [
              "Run data is saved locally in <code>/content/wandb/run-20241229_151004-558e0svp</code>"
            ]
          },
          "metadata": {}
        },
        {
          "output_type": "display_data",
          "data": {
            "text/plain": [
              "<IPython.core.display.HTML object>"
            ],
            "text/html": [
              "Syncing run <strong><a href='https://wandb.ai/truonghongkietcute-university-of-science-/huggingface/runs/558e0svp' target=\"_blank\">ntc-scv-distilbert-base-uncased</a></strong> to <a href='https://wandb.ai/truonghongkietcute-university-of-science-/huggingface' target=\"_blank\">Weights & Biases</a> (<a href='https://wandb.me/developer-guide' target=\"_blank\">docs</a>)<br>"
            ]
          },
          "metadata": {}
        },
        {
          "output_type": "display_data",
          "data": {
            "text/plain": [
              "<IPython.core.display.HTML object>"
            ],
            "text/html": [
              " View project at <a href='https://wandb.ai/truonghongkietcute-university-of-science-/huggingface' target=\"_blank\">https://wandb.ai/truonghongkietcute-university-of-science-/huggingface</a>"
            ]
          },
          "metadata": {}
        },
        {
          "output_type": "display_data",
          "data": {
            "text/plain": [
              "<IPython.core.display.HTML object>"
            ],
            "text/html": [
              " View run at <a href='https://wandb.ai/truonghongkietcute-university-of-science-/huggingface/runs/558e0svp' target=\"_blank\">https://wandb.ai/truonghongkietcute-university-of-science-/huggingface/runs/558e0svp</a>"
            ]
          },
          "metadata": {}
        },
        {
          "output_type": "display_data",
          "data": {
            "text/plain": [
              "<IPython.core.display.HTML object>"
            ],
            "text/html": [
              "\n",
              "    <div>\n",
              "      \n",
              "      <progress value='1180' max='1180' style='width:300px; height:20px; vertical-align: middle;'></progress>\n",
              "      [1180/1180 45:12, Epoch 10/10]\n",
              "    </div>\n",
              "    <table border=\"1\" class=\"dataframe\">\n",
              "  <thead>\n",
              " <tr style=\"text-align: left;\">\n",
              "      <th>Epoch</th>\n",
              "      <th>Training Loss</th>\n",
              "      <th>Validation Loss</th>\n",
              "      <th>Accuracy</th>\n",
              "    </tr>\n",
              "  </thead>\n",
              "  <tbody>\n",
              "    <tr>\n",
              "      <td>1</td>\n",
              "      <td>No log</td>\n",
              "      <td>0.460154</td>\n",
              "      <td>0.788100</td>\n",
              "    </tr>\n",
              "    <tr>\n",
              "      <td>2</td>\n",
              "      <td>No log</td>\n",
              "      <td>0.418926</td>\n",
              "      <td>0.809700</td>\n",
              "    </tr>\n",
              "    <tr>\n",
              "      <td>3</td>\n",
              "      <td>No log</td>\n",
              "      <td>0.404238</td>\n",
              "      <td>0.824900</td>\n",
              "    </tr>\n",
              "    <tr>\n",
              "      <td>4</td>\n",
              "      <td>No log</td>\n",
              "      <td>0.407485</td>\n",
              "      <td>0.823200</td>\n",
              "    </tr>\n",
              "    <tr>\n",
              "      <td>5</td>\n",
              "      <td>0.428700</td>\n",
              "      <td>0.399248</td>\n",
              "      <td>0.833900</td>\n",
              "    </tr>\n",
              "    <tr>\n",
              "      <td>6</td>\n",
              "      <td>0.428700</td>\n",
              "      <td>0.400825</td>\n",
              "      <td>0.830700</td>\n",
              "    </tr>\n",
              "    <tr>\n",
              "      <td>7</td>\n",
              "      <td>0.428700</td>\n",
              "      <td>0.397076</td>\n",
              "      <td>0.838100</td>\n",
              "    </tr>\n",
              "    <tr>\n",
              "      <td>8</td>\n",
              "      <td>0.428700</td>\n",
              "      <td>0.408136</td>\n",
              "      <td>0.837700</td>\n",
              "    </tr>\n",
              "    <tr>\n",
              "      <td>9</td>\n",
              "      <td>0.301300</td>\n",
              "      <td>0.412575</td>\n",
              "      <td>0.837600</td>\n",
              "    </tr>\n",
              "    <tr>\n",
              "      <td>10</td>\n",
              "      <td>0.301300</td>\n",
              "      <td>0.411543</td>\n",
              "      <td>0.838500</td>\n",
              "    </tr>\n",
              "  </tbody>\n",
              "</table><p>"
            ]
          },
          "metadata": {}
        },
        {
          "output_type": "execute_result",
          "data": {
            "text/plain": [
              "TrainOutput(global_step=1180, training_loss=0.3490514302657822, metrics={'train_runtime': 2972.5861, 'train_samples_per_second': 100.922, 'train_steps_per_second': 0.397, 'total_flos': 7761761640000000.0, 'train_loss': 0.3490514302657822, 'epoch': 10.0})"
            ]
          },
          "metadata": {},
          "execution_count": 11
        }
      ],
      "source": [
        "from transformers import TrainingArguments, Trainer\n",
        "\n",
        "training_args = TrainingArguments(\n",
        "    output_dir='ntc-scv-distilbert-base-uncased',\n",
        "    learning_rate=2e-5,\n",
        "    per_device_train_batch_size=256,\n",
        "    per_device_eval_batch_size=256,\n",
        "    num_train_epochs=10,\n",
        "    evaluation_strategy=\"epoch\",\n",
        "    save_strategy=\"epoch\",\n",
        "    load_best_model_at_end=True\n",
        ")\n",
        "\n",
        "trainer = Trainer(\n",
        "    model=model,\n",
        "    args=training_args,\n",
        "    train_dataset=processed_dataset[\"train\"],\n",
        "    eval_dataset=processed_dataset[\"valid\"],\n",
        "    compute_metrics=compute_metrics,\n",
        "    tokenizer=tokenizer,\n",
        ")\n",
        "\n",
        "trainer.train ()"
      ]
    },
    {
      "cell_type": "markdown",
      "metadata": {
        "id": "zbpMxgESAtts"
      },
      "source": [
        "##**6. Training**"
      ]
    },
    {
      "cell_type": "code",
      "source": [
        "import wandb\n",
        "\n",
        "wandb.init(mode='disabled')"
      ],
      "metadata": {
        "id": "EM9Ign2HbcSn",
        "colab": {
          "base_uri": "https://localhost:8080/",
          "height": 38
        },
        "outputId": "ecbb2919-c554-4910-c0a8-511d83c6f25d"
      },
      "execution_count": 12,
      "outputs": [
        {
          "output_type": "execute_result",
          "data": {
            "text/html": [
              "<button onClick=\"this.nextSibling.style.display='block';this.style.display='none';\">Display W&B run</button><iframe src='https://wandb.ai/dummy/dummy/runs/15sco7gn?jupyter=true' style='border:none;width:100%;height:420px;display:none;'></iframe>"
            ],
            "text/plain": [
              "<wandb.sdk.wandb_run.Run at 0x79dab6ab5330>"
            ]
          },
          "metadata": {},
          "execution_count": 12
        }
      ]
    },
    {
      "cell_type": "code",
      "execution_count": 14,
      "metadata": {
        "id": "rhOIH60XbSI7",
        "colab": {
          "base_uri": "https://localhost:8080/",
          "height": 124
        },
        "outputId": "3d5f7b33-4a94-49bd-9fca-eab11079e97a"
      },
      "outputs": [
        {
          "output_type": "display_data",
          "data": {
            "text/plain": [
              "<IPython.core.display.HTML object>"
            ],
            "text/html": [
              "\n",
              "    <div>\n",
              "      \n",
              "      <progress value='23' max='1180' style='width:300px; height:20px; vertical-align: middle;'></progress>\n",
              "      [  23/1180 00:43 < 39:48, 0.48 it/s, Epoch 0.19/10]\n",
              "    </div>\n",
              "    <table border=\"1\" class=\"dataframe\">\n",
              "  <thead>\n",
              " <tr style=\"text-align: left;\">\n",
              "      <th>Epoch</th>\n",
              "      <th>Training Loss</th>\n",
              "      <th>Validation Loss</th>\n",
              "      <th>Accuracy</th>\n",
              "    </tr>\n",
              "  </thead>\n",
              "  <tbody>\n",
              "    <tr>\n",
              "      <td>0</td>\n",
              "      <td>No log</td>\n",
              "      <td>0.396287</td>\n",
              "      <td>0.838000</td>\n",
              "    </tr>\n",
              "  </tbody>\n",
              "</table><p>"
            ]
          },
          "metadata": {}
        },
        {
          "output_type": "execute_result",
          "data": {
            "text/plain": [
              "{'eval_loss': 0.3962867558002472, 'eval_accuracy': 0.838}"
            ]
          },
          "metadata": {},
          "execution_count": 14
        }
      ],
      "source": [
        "trainer.evaluate(processed_dataset[\"test\"])"
      ]
    },
    {
      "cell_type": "code",
      "source": [
        "from transformers import pipeline\n",
        "\n",
        "classifier = pipeline(\n",
        "    \"text-classification\",\n",
        "    model=\"thainq107/ntc-scv-distilbert-base-uncased\"\n",
        ")"
      ],
      "metadata": {
        "id": "8Wx5A_pQFvl8",
        "colab": {
          "base_uri": "https://localhost:8080/",
          "height": 226,
          "referenced_widgets": [
            "8c62c472e4d549099f0ab01406e76470",
            "6af1ebb67b75403f937c9e00879c3f6c",
            "dcddf82c863546d6b6d54b5d255fdc07",
            "2b80f02af1ea4d9e866345ba694252c1",
            "96017e1a613b4bf7b104b0138c1c11ac",
            "55a9ccbfe59347efb89146c5491ea920",
            "c0f3729abc184dee865697073982af07",
            "8f9fa0029a5245f39a2a52951f956e9d",
            "62d2c9b878d24326ac1faddce5a76345",
            "52917f2df84145dcaee223132cfedecc",
            "cdb593e28448430eabdbe0dc83d489e1",
            "22f9ef1e41a04ba5aff67446c4f9e605",
            "fff1bc94d78f457fa07d7564360a7086",
            "293bd0e7c2874ee1b66b03798e90ad09",
            "edb4bc519da44dcdbbaa2de67e298017",
            "2af9fe086e0a4a28820a51e8fefb45e7",
            "02ba2d1db3c64c4da32ad84b2086cfd9",
            "4f3aadfbd46b4a50ac561f2e52f3a564",
            "f9f4d05b340d469aa19360e71eda920a",
            "7ccc43d78c064f6499891cec4ede6cf3",
            "33de92ac58d74be394bddeba41cd1894",
            "e6d3d4a47bdf44108f8b9433fca5529c",
            "b2334777c90b47c88fb260837b63bb9c",
            "ef55ef00a1724f96be938063251f74fb",
            "e7cd4143928248949b3a0904cf6ef8d3",
            "c08fa933aa614813af52d7137924b8ae",
            "68f6e3a6a3f84a81a3202b755057ca41",
            "f5fda547c69146d9b27e23f6982acb62",
            "0cf67e1a876f495b88deff4d1645b688",
            "7a502309a8e94454966e9cc116685252",
            "63f89292d5994635b6cdd812b6999112",
            "61bb9f2a8ec64f2fbd03df9668c77ef6",
            "83d3628945d444c1a3404546a6d76a92",
            "a0856a28d94b4f7481f2d9ee6d674e90",
            "4f60fe5d601843ff90cd6846b1d8ca26",
            "0e5562c7d4f743debdd5db234d5007eb",
            "a7aa04b1baa6424a9a1d21273eece70e",
            "4210782c9c094b2da6e60dddbf8f2b75",
            "9d6e5109d2eb4253ab92f1cc5dff9a1d",
            "5b5c9f80fd7d48e8ab596cd941c45c2e",
            "a6df5be8609c4b90adb0399ab311118d",
            "1985e4c3cc2845098f2f00cae3040d90",
            "c127b9d1f54d45dab39af5e9b5cf566d",
            "ee6f754fd58943039b6504b3a5e935e4",
            "b3692136db384d08bae55917c5cb97a8",
            "32bfb5e35f154dbea3cbb20eb31e7380",
            "35f67c87dc6144d3943a3455840740b2",
            "e472d17db05d4846bbaca1a17bf9657a",
            "b9092819f86a46198b4230dd1095e671",
            "240b4af3d57d4c7991fa19e67163e811",
            "6ecc27b123814f078f478545fb9ca5d0",
            "5a58d4d6282c4cdc9260a2513f572140",
            "eada613bfe1449a2b30dc1ed55f42126",
            "0459663c28e84db783687e02a4018f87",
            "a39df47494cc4b4691fb6ede3e0e6191",
            "c5a06d5758c943a880a1ee87ca51a17b",
            "a62d0c9309b6465db26c3383398e8247",
            "08b333f23b454b678ca99daf59cb1ac7",
            "54571575d98749ddb44198d8ac4f7edd",
            "bba59636c7b44d0eb8f0f83a76c512a8",
            "1246d26e894c4b7aba032156439d4d50",
            "f3a3d3afc2a44f4f9887b3becb538458",
            "ea09b3d5fc09490d92ff45c225e15055",
            "6c9792a075054184a25ddfe437868df4",
            "dd06b88c458144c5899ee76f7369d0be",
            "773efbf5f26144369c0617119a7a30a1"
          ]
        },
        "outputId": "7306a110-0ea0-42dc-a769-53b89d82f072"
      },
      "execution_count": 15,
      "outputs": [
        {
          "output_type": "display_data",
          "data": {
            "text/plain": [
              "config.json:   0%|          | 0.00/659 [00:00<?, ?B/s]"
            ],
            "application/vnd.jupyter.widget-view+json": {
              "version_major": 2,
              "version_minor": 0,
              "model_id": "8c62c472e4d549099f0ab01406e76470"
            }
          },
          "metadata": {}
        },
        {
          "output_type": "display_data",
          "data": {
            "text/plain": [
              "model.safetensors:   0%|          | 0.00/268M [00:00<?, ?B/s]"
            ],
            "application/vnd.jupyter.widget-view+json": {
              "version_major": 2,
              "version_minor": 0,
              "model_id": "22f9ef1e41a04ba5aff67446c4f9e605"
            }
          },
          "metadata": {}
        },
        {
          "output_type": "display_data",
          "data": {
            "text/plain": [
              "tokenizer_config.json:   0%|          | 0.00/1.23k [00:00<?, ?B/s]"
            ],
            "application/vnd.jupyter.widget-view+json": {
              "version_major": 2,
              "version_minor": 0,
              "model_id": "b2334777c90b47c88fb260837b63bb9c"
            }
          },
          "metadata": {}
        },
        {
          "output_type": "display_data",
          "data": {
            "text/plain": [
              "vocab.txt:   0%|          | 0.00/232k [00:00<?, ?B/s]"
            ],
            "application/vnd.jupyter.widget-view+json": {
              "version_major": 2,
              "version_minor": 0,
              "model_id": "a0856a28d94b4f7481f2d9ee6d674e90"
            }
          },
          "metadata": {}
        },
        {
          "output_type": "display_data",
          "data": {
            "text/plain": [
              "tokenizer.json:   0%|          | 0.00/712k [00:00<?, ?B/s]"
            ],
            "application/vnd.jupyter.widget-view+json": {
              "version_major": 2,
              "version_minor": 0,
              "model_id": "b3692136db384d08bae55917c5cb97a8"
            }
          },
          "metadata": {}
        },
        {
          "output_type": "display_data",
          "data": {
            "text/plain": [
              "special_tokens_map.json:   0%|          | 0.00/125 [00:00<?, ?B/s]"
            ],
            "application/vnd.jupyter.widget-view+json": {
              "version_major": 2,
              "version_minor": 0,
              "model_id": "c5a06d5758c943a880a1ee87ca51a17b"
            }
          },
          "metadata": {}
        },
        {
          "output_type": "stream",
          "name": "stderr",
          "text": [
            "Device set to use cuda:0\n"
          ]
        }
      ]
    },
    {
      "cell_type": "code",
      "source": [
        "classifier(\"quán ăn này ngon quá luôn nè\")"
      ],
      "metadata": {
        "id": "QhIOHX6WG-r7",
        "colab": {
          "base_uri": "https://localhost:8080/"
        },
        "outputId": "a46c6b9e-7672-4a05-99e8-fe9ad0780cf4"
      },
      "execution_count": 16,
      "outputs": [
        {
          "output_type": "execute_result",
          "data": {
            "text/plain": [
              "[{'label': 'LABEL_1', 'score': 0.7825170755386353}]"
            ]
          },
          "metadata": {},
          "execution_count": 16
        }
      ]
    }
  ],
  "metadata": {
    "colab": {
      "provenance": [],
      "gpuType": "T4",
      "toc_visible": true
    },
    "kernelspec": {
      "display_name": "Python 3",
      "name": "python3"
    },
    "language_info": {
      "name": "python"
    },
    "widgets": {
      "application/vnd.jupyter.widget-state+json": {
        "a50f807edd694f868402cc05cc92c811": {
          "model_module": "@jupyter-widgets/controls",
          "model_name": "HBoxModel",
          "model_module_version": "1.5.0",
          "state": {
            "_dom_classes": [],
            "_model_module": "@jupyter-widgets/controls",
            "_model_module_version": "1.5.0",
            "_model_name": "HBoxModel",
            "_view_count": null,
            "_view_module": "@jupyter-widgets/controls",
            "_view_module_version": "1.5.0",
            "_view_name": "HBoxView",
            "box_style": "",
            "children": [
              "IPY_MODEL_f4e3f2e4391244538affa1d588da32c2",
              "IPY_MODEL_f06608f1a2ee4896b9bf8b92af1f3fe9",
              "IPY_MODEL_05f843aba27d4ede835ffcb96b3fc6a3"
            ],
            "layout": "IPY_MODEL_3528edbd965f479faf1569b8b1341bc4"
          }
        },
        "f4e3f2e4391244538affa1d588da32c2": {
          "model_module": "@jupyter-widgets/controls",
          "model_name": "HTMLModel",
          "model_module_version": "1.5.0",
          "state": {
            "_dom_classes": [],
            "_model_module": "@jupyter-widgets/controls",
            "_model_module_version": "1.5.0",
            "_model_name": "HTMLModel",
            "_view_count": null,
            "_view_module": "@jupyter-widgets/controls",
            "_view_module_version": "1.5.0",
            "_view_name": "HTMLView",
            "description": "",
            "description_tooltip": null,
            "layout": "IPY_MODEL_9c369c3cd89442589110b11cb6aa830e",
            "placeholder": "​",
            "style": "IPY_MODEL_9adb804619324b7987bd0ae61aaf265e",
            "value": "model.safetensors: 100%"
          }
        },
        "f06608f1a2ee4896b9bf8b92af1f3fe9": {
          "model_module": "@jupyter-widgets/controls",
          "model_name": "FloatProgressModel",
          "model_module_version": "1.5.0",
          "state": {
            "_dom_classes": [],
            "_model_module": "@jupyter-widgets/controls",
            "_model_module_version": "1.5.0",
            "_model_name": "FloatProgressModel",
            "_view_count": null,
            "_view_module": "@jupyter-widgets/controls",
            "_view_module_version": "1.5.0",
            "_view_name": "ProgressView",
            "bar_style": "success",
            "description": "",
            "description_tooltip": null,
            "layout": "IPY_MODEL_dc702162382a4baea32aaf7b565b6427",
            "max": 267954768,
            "min": 0,
            "orientation": "horizontal",
            "style": "IPY_MODEL_89892cadc734485ba723282e365322ed",
            "value": 267954768
          }
        },
        "05f843aba27d4ede835ffcb96b3fc6a3": {
          "model_module": "@jupyter-widgets/controls",
          "model_name": "HTMLModel",
          "model_module_version": "1.5.0",
          "state": {
            "_dom_classes": [],
            "_model_module": "@jupyter-widgets/controls",
            "_model_module_version": "1.5.0",
            "_model_name": "HTMLModel",
            "_view_count": null,
            "_view_module": "@jupyter-widgets/controls",
            "_view_module_version": "1.5.0",
            "_view_name": "HTMLView",
            "description": "",
            "description_tooltip": null,
            "layout": "IPY_MODEL_a6400afe81a74b019ec73f153c774710",
            "placeholder": "​",
            "style": "IPY_MODEL_43106e96376c4b7d9c632bcda3095111",
            "value": " 268M/268M [00:01&lt;00:00, 216MB/s]"
          }
        },
        "3528edbd965f479faf1569b8b1341bc4": {
          "model_module": "@jupyter-widgets/base",
          "model_name": "LayoutModel",
          "model_module_version": "1.2.0",
          "state": {
            "_model_module": "@jupyter-widgets/base",
            "_model_module_version": "1.2.0",
            "_model_name": "LayoutModel",
            "_view_count": null,
            "_view_module": "@jupyter-widgets/base",
            "_view_module_version": "1.2.0",
            "_view_name": "LayoutView",
            "align_content": null,
            "align_items": null,
            "align_self": null,
            "border": null,
            "bottom": null,
            "display": null,
            "flex": null,
            "flex_flow": null,
            "grid_area": null,
            "grid_auto_columns": null,
            "grid_auto_flow": null,
            "grid_auto_rows": null,
            "grid_column": null,
            "grid_gap": null,
            "grid_row": null,
            "grid_template_areas": null,
            "grid_template_columns": null,
            "grid_template_rows": null,
            "height": null,
            "justify_content": null,
            "justify_items": null,
            "left": null,
            "margin": null,
            "max_height": null,
            "max_width": null,
            "min_height": null,
            "min_width": null,
            "object_fit": null,
            "object_position": null,
            "order": null,
            "overflow": null,
            "overflow_x": null,
            "overflow_y": null,
            "padding": null,
            "right": null,
            "top": null,
            "visibility": null,
            "width": null
          }
        },
        "9c369c3cd89442589110b11cb6aa830e": {
          "model_module": "@jupyter-widgets/base",
          "model_name": "LayoutModel",
          "model_module_version": "1.2.0",
          "state": {
            "_model_module": "@jupyter-widgets/base",
            "_model_module_version": "1.2.0",
            "_model_name": "LayoutModel",
            "_view_count": null,
            "_view_module": "@jupyter-widgets/base",
            "_view_module_version": "1.2.0",
            "_view_name": "LayoutView",
            "align_content": null,
            "align_items": null,
            "align_self": null,
            "border": null,
            "bottom": null,
            "display": null,
            "flex": null,
            "flex_flow": null,
            "grid_area": null,
            "grid_auto_columns": null,
            "grid_auto_flow": null,
            "grid_auto_rows": null,
            "grid_column": null,
            "grid_gap": null,
            "grid_row": null,
            "grid_template_areas": null,
            "grid_template_columns": null,
            "grid_template_rows": null,
            "height": null,
            "justify_content": null,
            "justify_items": null,
            "left": null,
            "margin": null,
            "max_height": null,
            "max_width": null,
            "min_height": null,
            "min_width": null,
            "object_fit": null,
            "object_position": null,
            "order": null,
            "overflow": null,
            "overflow_x": null,
            "overflow_y": null,
            "padding": null,
            "right": null,
            "top": null,
            "visibility": null,
            "width": null
          }
        },
        "9adb804619324b7987bd0ae61aaf265e": {
          "model_module": "@jupyter-widgets/controls",
          "model_name": "DescriptionStyleModel",
          "model_module_version": "1.5.0",
          "state": {
            "_model_module": "@jupyter-widgets/controls",
            "_model_module_version": "1.5.0",
            "_model_name": "DescriptionStyleModel",
            "_view_count": null,
            "_view_module": "@jupyter-widgets/base",
            "_view_module_version": "1.2.0",
            "_view_name": "StyleView",
            "description_width": ""
          }
        },
        "dc702162382a4baea32aaf7b565b6427": {
          "model_module": "@jupyter-widgets/base",
          "model_name": "LayoutModel",
          "model_module_version": "1.2.0",
          "state": {
            "_model_module": "@jupyter-widgets/base",
            "_model_module_version": "1.2.0",
            "_model_name": "LayoutModel",
            "_view_count": null,
            "_view_module": "@jupyter-widgets/base",
            "_view_module_version": "1.2.0",
            "_view_name": "LayoutView",
            "align_content": null,
            "align_items": null,
            "align_self": null,
            "border": null,
            "bottom": null,
            "display": null,
            "flex": null,
            "flex_flow": null,
            "grid_area": null,
            "grid_auto_columns": null,
            "grid_auto_flow": null,
            "grid_auto_rows": null,
            "grid_column": null,
            "grid_gap": null,
            "grid_row": null,
            "grid_template_areas": null,
            "grid_template_columns": null,
            "grid_template_rows": null,
            "height": null,
            "justify_content": null,
            "justify_items": null,
            "left": null,
            "margin": null,
            "max_height": null,
            "max_width": null,
            "min_height": null,
            "min_width": null,
            "object_fit": null,
            "object_position": null,
            "order": null,
            "overflow": null,
            "overflow_x": null,
            "overflow_y": null,
            "padding": null,
            "right": null,
            "top": null,
            "visibility": null,
            "width": null
          }
        },
        "89892cadc734485ba723282e365322ed": {
          "model_module": "@jupyter-widgets/controls",
          "model_name": "ProgressStyleModel",
          "model_module_version": "1.5.0",
          "state": {
            "_model_module": "@jupyter-widgets/controls",
            "_model_module_version": "1.5.0",
            "_model_name": "ProgressStyleModel",
            "_view_count": null,
            "_view_module": "@jupyter-widgets/base",
            "_view_module_version": "1.2.0",
            "_view_name": "StyleView",
            "bar_color": null,
            "description_width": ""
          }
        },
        "a6400afe81a74b019ec73f153c774710": {
          "model_module": "@jupyter-widgets/base",
          "model_name": "LayoutModel",
          "model_module_version": "1.2.0",
          "state": {
            "_model_module": "@jupyter-widgets/base",
            "_model_module_version": "1.2.0",
            "_model_name": "LayoutModel",
            "_view_count": null,
            "_view_module": "@jupyter-widgets/base",
            "_view_module_version": "1.2.0",
            "_view_name": "LayoutView",
            "align_content": null,
            "align_items": null,
            "align_self": null,
            "border": null,
            "bottom": null,
            "display": null,
            "flex": null,
            "flex_flow": null,
            "grid_area": null,
            "grid_auto_columns": null,
            "grid_auto_flow": null,
            "grid_auto_rows": null,
            "grid_column": null,
            "grid_gap": null,
            "grid_row": null,
            "grid_template_areas": null,
            "grid_template_columns": null,
            "grid_template_rows": null,
            "height": null,
            "justify_content": null,
            "justify_items": null,
            "left": null,
            "margin": null,
            "max_height": null,
            "max_width": null,
            "min_height": null,
            "min_width": null,
            "object_fit": null,
            "object_position": null,
            "order": null,
            "overflow": null,
            "overflow_x": null,
            "overflow_y": null,
            "padding": null,
            "right": null,
            "top": null,
            "visibility": null,
            "width": null
          }
        },
        "43106e96376c4b7d9c632bcda3095111": {
          "model_module": "@jupyter-widgets/controls",
          "model_name": "DescriptionStyleModel",
          "model_module_version": "1.5.0",
          "state": {
            "_model_module": "@jupyter-widgets/controls",
            "_model_module_version": "1.5.0",
            "_model_name": "DescriptionStyleModel",
            "_view_count": null,
            "_view_module": "@jupyter-widgets/base",
            "_view_module_version": "1.2.0",
            "_view_name": "StyleView",
            "description_width": ""
          }
        },
        "f93a3930d259416889c2ea2251817cf4": {
          "model_module": "@jupyter-widgets/controls",
          "model_name": "HBoxModel",
          "model_module_version": "1.5.0",
          "state": {
            "_dom_classes": [],
            "_model_module": "@jupyter-widgets/controls",
            "_model_module_version": "1.5.0",
            "_model_name": "HBoxModel",
            "_view_count": null,
            "_view_module": "@jupyter-widgets/controls",
            "_view_module_version": "1.5.0",
            "_view_name": "HBoxView",
            "box_style": "",
            "children": [
              "IPY_MODEL_670374d2dd6c47108706e07f1ef4e3fe",
              "IPY_MODEL_29544acfc6b248a09e5cd6afa9520957",
              "IPY_MODEL_b1a88b3b724b4a829c597684950cbfdc"
            ],
            "layout": "IPY_MODEL_41a411b502874ca6ae3f67d8f10ec3ab"
          }
        },
        "670374d2dd6c47108706e07f1ef4e3fe": {
          "model_module": "@jupyter-widgets/controls",
          "model_name": "HTMLModel",
          "model_module_version": "1.5.0",
          "state": {
            "_dom_classes": [],
            "_model_module": "@jupyter-widgets/controls",
            "_model_module_version": "1.5.0",
            "_model_name": "HTMLModel",
            "_view_count": null,
            "_view_module": "@jupyter-widgets/controls",
            "_view_module_version": "1.5.0",
            "_view_name": "HTMLView",
            "description": "",
            "description_tooltip": null,
            "layout": "IPY_MODEL_4a8e06be38d042939e2b044a304dd75a",
            "placeholder": "​",
            "style": "IPY_MODEL_0da310b786404b0e98b6e96191510f5f",
            "value": "Downloading builder script: 100%"
          }
        },
        "29544acfc6b248a09e5cd6afa9520957": {
          "model_module": "@jupyter-widgets/controls",
          "model_name": "FloatProgressModel",
          "model_module_version": "1.5.0",
          "state": {
            "_dom_classes": [],
            "_model_module": "@jupyter-widgets/controls",
            "_model_module_version": "1.5.0",
            "_model_name": "FloatProgressModel",
            "_view_count": null,
            "_view_module": "@jupyter-widgets/controls",
            "_view_module_version": "1.5.0",
            "_view_name": "ProgressView",
            "bar_style": "success",
            "description": "",
            "description_tooltip": null,
            "layout": "IPY_MODEL_b392dcf76ff14471bdccaca564649fd3",
            "max": 4203,
            "min": 0,
            "orientation": "horizontal",
            "style": "IPY_MODEL_a16ba6421566478ba1f6b35e4991ef98",
            "value": 4203
          }
        },
        "b1a88b3b724b4a829c597684950cbfdc": {
          "model_module": "@jupyter-widgets/controls",
          "model_name": "HTMLModel",
          "model_module_version": "1.5.0",
          "state": {
            "_dom_classes": [],
            "_model_module": "@jupyter-widgets/controls",
            "_model_module_version": "1.5.0",
            "_model_name": "HTMLModel",
            "_view_count": null,
            "_view_module": "@jupyter-widgets/controls",
            "_view_module_version": "1.5.0",
            "_view_name": "HTMLView",
            "description": "",
            "description_tooltip": null,
            "layout": "IPY_MODEL_017f93ef5fb345b589306dfed85082a4",
            "placeholder": "​",
            "style": "IPY_MODEL_cbb4a88d60e64c8bb22bc8837c19deea",
            "value": " 4.20k/4.20k [00:00&lt;00:00, 158kB/s]"
          }
        },
        "41a411b502874ca6ae3f67d8f10ec3ab": {
          "model_module": "@jupyter-widgets/base",
          "model_name": "LayoutModel",
          "model_module_version": "1.2.0",
          "state": {
            "_model_module": "@jupyter-widgets/base",
            "_model_module_version": "1.2.0",
            "_model_name": "LayoutModel",
            "_view_count": null,
            "_view_module": "@jupyter-widgets/base",
            "_view_module_version": "1.2.0",
            "_view_name": "LayoutView",
            "align_content": null,
            "align_items": null,
            "align_self": null,
            "border": null,
            "bottom": null,
            "display": null,
            "flex": null,
            "flex_flow": null,
            "grid_area": null,
            "grid_auto_columns": null,
            "grid_auto_flow": null,
            "grid_auto_rows": null,
            "grid_column": null,
            "grid_gap": null,
            "grid_row": null,
            "grid_template_areas": null,
            "grid_template_columns": null,
            "grid_template_rows": null,
            "height": null,
            "justify_content": null,
            "justify_items": null,
            "left": null,
            "margin": null,
            "max_height": null,
            "max_width": null,
            "min_height": null,
            "min_width": null,
            "object_fit": null,
            "object_position": null,
            "order": null,
            "overflow": null,
            "overflow_x": null,
            "overflow_y": null,
            "padding": null,
            "right": null,
            "top": null,
            "visibility": null,
            "width": null
          }
        },
        "4a8e06be38d042939e2b044a304dd75a": {
          "model_module": "@jupyter-widgets/base",
          "model_name": "LayoutModel",
          "model_module_version": "1.2.0",
          "state": {
            "_model_module": "@jupyter-widgets/base",
            "_model_module_version": "1.2.0",
            "_model_name": "LayoutModel",
            "_view_count": null,
            "_view_module": "@jupyter-widgets/base",
            "_view_module_version": "1.2.0",
            "_view_name": "LayoutView",
            "align_content": null,
            "align_items": null,
            "align_self": null,
            "border": null,
            "bottom": null,
            "display": null,
            "flex": null,
            "flex_flow": null,
            "grid_area": null,
            "grid_auto_columns": null,
            "grid_auto_flow": null,
            "grid_auto_rows": null,
            "grid_column": null,
            "grid_gap": null,
            "grid_row": null,
            "grid_template_areas": null,
            "grid_template_columns": null,
            "grid_template_rows": null,
            "height": null,
            "justify_content": null,
            "justify_items": null,
            "left": null,
            "margin": null,
            "max_height": null,
            "max_width": null,
            "min_height": null,
            "min_width": null,
            "object_fit": null,
            "object_position": null,
            "order": null,
            "overflow": null,
            "overflow_x": null,
            "overflow_y": null,
            "padding": null,
            "right": null,
            "top": null,
            "visibility": null,
            "width": null
          }
        },
        "0da310b786404b0e98b6e96191510f5f": {
          "model_module": "@jupyter-widgets/controls",
          "model_name": "DescriptionStyleModel",
          "model_module_version": "1.5.0",
          "state": {
            "_model_module": "@jupyter-widgets/controls",
            "_model_module_version": "1.5.0",
            "_model_name": "DescriptionStyleModel",
            "_view_count": null,
            "_view_module": "@jupyter-widgets/base",
            "_view_module_version": "1.2.0",
            "_view_name": "StyleView",
            "description_width": ""
          }
        },
        "b392dcf76ff14471bdccaca564649fd3": {
          "model_module": "@jupyter-widgets/base",
          "model_name": "LayoutModel",
          "model_module_version": "1.2.0",
          "state": {
            "_model_module": "@jupyter-widgets/base",
            "_model_module_version": "1.2.0",
            "_model_name": "LayoutModel",
            "_view_count": null,
            "_view_module": "@jupyter-widgets/base",
            "_view_module_version": "1.2.0",
            "_view_name": "LayoutView",
            "align_content": null,
            "align_items": null,
            "align_self": null,
            "border": null,
            "bottom": null,
            "display": null,
            "flex": null,
            "flex_flow": null,
            "grid_area": null,
            "grid_auto_columns": null,
            "grid_auto_flow": null,
            "grid_auto_rows": null,
            "grid_column": null,
            "grid_gap": null,
            "grid_row": null,
            "grid_template_areas": null,
            "grid_template_columns": null,
            "grid_template_rows": null,
            "height": null,
            "justify_content": null,
            "justify_items": null,
            "left": null,
            "margin": null,
            "max_height": null,
            "max_width": null,
            "min_height": null,
            "min_width": null,
            "object_fit": null,
            "object_position": null,
            "order": null,
            "overflow": null,
            "overflow_x": null,
            "overflow_y": null,
            "padding": null,
            "right": null,
            "top": null,
            "visibility": null,
            "width": null
          }
        },
        "a16ba6421566478ba1f6b35e4991ef98": {
          "model_module": "@jupyter-widgets/controls",
          "model_name": "ProgressStyleModel",
          "model_module_version": "1.5.0",
          "state": {
            "_model_module": "@jupyter-widgets/controls",
            "_model_module_version": "1.5.0",
            "_model_name": "ProgressStyleModel",
            "_view_count": null,
            "_view_module": "@jupyter-widgets/base",
            "_view_module_version": "1.2.0",
            "_view_name": "StyleView",
            "bar_color": null,
            "description_width": ""
          }
        },
        "017f93ef5fb345b589306dfed85082a4": {
          "model_module": "@jupyter-widgets/base",
          "model_name": "LayoutModel",
          "model_module_version": "1.2.0",
          "state": {
            "_model_module": "@jupyter-widgets/base",
            "_model_module_version": "1.2.0",
            "_model_name": "LayoutModel",
            "_view_count": null,
            "_view_module": "@jupyter-widgets/base",
            "_view_module_version": "1.2.0",
            "_view_name": "LayoutView",
            "align_content": null,
            "align_items": null,
            "align_self": null,
            "border": null,
            "bottom": null,
            "display": null,
            "flex": null,
            "flex_flow": null,
            "grid_area": null,
            "grid_auto_columns": null,
            "grid_auto_flow": null,
            "grid_auto_rows": null,
            "grid_column": null,
            "grid_gap": null,
            "grid_row": null,
            "grid_template_areas": null,
            "grid_template_columns": null,
            "grid_template_rows": null,
            "height": null,
            "justify_content": null,
            "justify_items": null,
            "left": null,
            "margin": null,
            "max_height": null,
            "max_width": null,
            "min_height": null,
            "min_width": null,
            "object_fit": null,
            "object_position": null,
            "order": null,
            "overflow": null,
            "overflow_x": null,
            "overflow_y": null,
            "padding": null,
            "right": null,
            "top": null,
            "visibility": null,
            "width": null
          }
        },
        "cbb4a88d60e64c8bb22bc8837c19deea": {
          "model_module": "@jupyter-widgets/controls",
          "model_name": "DescriptionStyleModel",
          "model_module_version": "1.5.0",
          "state": {
            "_model_module": "@jupyter-widgets/controls",
            "_model_module_version": "1.5.0",
            "_model_name": "DescriptionStyleModel",
            "_view_count": null,
            "_view_module": "@jupyter-widgets/base",
            "_view_module_version": "1.2.0",
            "_view_name": "StyleView",
            "description_width": ""
          }
        },
        "8c62c472e4d549099f0ab01406e76470": {
          "model_module": "@jupyter-widgets/controls",
          "model_name": "HBoxModel",
          "model_module_version": "1.5.0",
          "state": {
            "_dom_classes": [],
            "_model_module": "@jupyter-widgets/controls",
            "_model_module_version": "1.5.0",
            "_model_name": "HBoxModel",
            "_view_count": null,
            "_view_module": "@jupyter-widgets/controls",
            "_view_module_version": "1.5.0",
            "_view_name": "HBoxView",
            "box_style": "",
            "children": [
              "IPY_MODEL_6af1ebb67b75403f937c9e00879c3f6c",
              "IPY_MODEL_dcddf82c863546d6b6d54b5d255fdc07",
              "IPY_MODEL_2b80f02af1ea4d9e866345ba694252c1"
            ],
            "layout": "IPY_MODEL_96017e1a613b4bf7b104b0138c1c11ac"
          }
        },
        "6af1ebb67b75403f937c9e00879c3f6c": {
          "model_module": "@jupyter-widgets/controls",
          "model_name": "HTMLModel",
          "model_module_version": "1.5.0",
          "state": {
            "_dom_classes": [],
            "_model_module": "@jupyter-widgets/controls",
            "_model_module_version": "1.5.0",
            "_model_name": "HTMLModel",
            "_view_count": null,
            "_view_module": "@jupyter-widgets/controls",
            "_view_module_version": "1.5.0",
            "_view_name": "HTMLView",
            "description": "",
            "description_tooltip": null,
            "layout": "IPY_MODEL_55a9ccbfe59347efb89146c5491ea920",
            "placeholder": "​",
            "style": "IPY_MODEL_c0f3729abc184dee865697073982af07",
            "value": "config.json: 100%"
          }
        },
        "dcddf82c863546d6b6d54b5d255fdc07": {
          "model_module": "@jupyter-widgets/controls",
          "model_name": "FloatProgressModel",
          "model_module_version": "1.5.0",
          "state": {
            "_dom_classes": [],
            "_model_module": "@jupyter-widgets/controls",
            "_model_module_version": "1.5.0",
            "_model_name": "FloatProgressModel",
            "_view_count": null,
            "_view_module": "@jupyter-widgets/controls",
            "_view_module_version": "1.5.0",
            "_view_name": "ProgressView",
            "bar_style": "success",
            "description": "",
            "description_tooltip": null,
            "layout": "IPY_MODEL_8f9fa0029a5245f39a2a52951f956e9d",
            "max": 659,
            "min": 0,
            "orientation": "horizontal",
            "style": "IPY_MODEL_62d2c9b878d24326ac1faddce5a76345",
            "value": 659
          }
        },
        "2b80f02af1ea4d9e866345ba694252c1": {
          "model_module": "@jupyter-widgets/controls",
          "model_name": "HTMLModel",
          "model_module_version": "1.5.0",
          "state": {
            "_dom_classes": [],
            "_model_module": "@jupyter-widgets/controls",
            "_model_module_version": "1.5.0",
            "_model_name": "HTMLModel",
            "_view_count": null,
            "_view_module": "@jupyter-widgets/controls",
            "_view_module_version": "1.5.0",
            "_view_name": "HTMLView",
            "description": "",
            "description_tooltip": null,
            "layout": "IPY_MODEL_52917f2df84145dcaee223132cfedecc",
            "placeholder": "​",
            "style": "IPY_MODEL_cdb593e28448430eabdbe0dc83d489e1",
            "value": " 659/659 [00:00&lt;00:00, 13.2kB/s]"
          }
        },
        "96017e1a613b4bf7b104b0138c1c11ac": {
          "model_module": "@jupyter-widgets/base",
          "model_name": "LayoutModel",
          "model_module_version": "1.2.0",
          "state": {
            "_model_module": "@jupyter-widgets/base",
            "_model_module_version": "1.2.0",
            "_model_name": "LayoutModel",
            "_view_count": null,
            "_view_module": "@jupyter-widgets/base",
            "_view_module_version": "1.2.0",
            "_view_name": "LayoutView",
            "align_content": null,
            "align_items": null,
            "align_self": null,
            "border": null,
            "bottom": null,
            "display": null,
            "flex": null,
            "flex_flow": null,
            "grid_area": null,
            "grid_auto_columns": null,
            "grid_auto_flow": null,
            "grid_auto_rows": null,
            "grid_column": null,
            "grid_gap": null,
            "grid_row": null,
            "grid_template_areas": null,
            "grid_template_columns": null,
            "grid_template_rows": null,
            "height": null,
            "justify_content": null,
            "justify_items": null,
            "left": null,
            "margin": null,
            "max_height": null,
            "max_width": null,
            "min_height": null,
            "min_width": null,
            "object_fit": null,
            "object_position": null,
            "order": null,
            "overflow": null,
            "overflow_x": null,
            "overflow_y": null,
            "padding": null,
            "right": null,
            "top": null,
            "visibility": null,
            "width": null
          }
        },
        "55a9ccbfe59347efb89146c5491ea920": {
          "model_module": "@jupyter-widgets/base",
          "model_name": "LayoutModel",
          "model_module_version": "1.2.0",
          "state": {
            "_model_module": "@jupyter-widgets/base",
            "_model_module_version": "1.2.0",
            "_model_name": "LayoutModel",
            "_view_count": null,
            "_view_module": "@jupyter-widgets/base",
            "_view_module_version": "1.2.0",
            "_view_name": "LayoutView",
            "align_content": null,
            "align_items": null,
            "align_self": null,
            "border": null,
            "bottom": null,
            "display": null,
            "flex": null,
            "flex_flow": null,
            "grid_area": null,
            "grid_auto_columns": null,
            "grid_auto_flow": null,
            "grid_auto_rows": null,
            "grid_column": null,
            "grid_gap": null,
            "grid_row": null,
            "grid_template_areas": null,
            "grid_template_columns": null,
            "grid_template_rows": null,
            "height": null,
            "justify_content": null,
            "justify_items": null,
            "left": null,
            "margin": null,
            "max_height": null,
            "max_width": null,
            "min_height": null,
            "min_width": null,
            "object_fit": null,
            "object_position": null,
            "order": null,
            "overflow": null,
            "overflow_x": null,
            "overflow_y": null,
            "padding": null,
            "right": null,
            "top": null,
            "visibility": null,
            "width": null
          }
        },
        "c0f3729abc184dee865697073982af07": {
          "model_module": "@jupyter-widgets/controls",
          "model_name": "DescriptionStyleModel",
          "model_module_version": "1.5.0",
          "state": {
            "_model_module": "@jupyter-widgets/controls",
            "_model_module_version": "1.5.0",
            "_model_name": "DescriptionStyleModel",
            "_view_count": null,
            "_view_module": "@jupyter-widgets/base",
            "_view_module_version": "1.2.0",
            "_view_name": "StyleView",
            "description_width": ""
          }
        },
        "8f9fa0029a5245f39a2a52951f956e9d": {
          "model_module": "@jupyter-widgets/base",
          "model_name": "LayoutModel",
          "model_module_version": "1.2.0",
          "state": {
            "_model_module": "@jupyter-widgets/base",
            "_model_module_version": "1.2.0",
            "_model_name": "LayoutModel",
            "_view_count": null,
            "_view_module": "@jupyter-widgets/base",
            "_view_module_version": "1.2.0",
            "_view_name": "LayoutView",
            "align_content": null,
            "align_items": null,
            "align_self": null,
            "border": null,
            "bottom": null,
            "display": null,
            "flex": null,
            "flex_flow": null,
            "grid_area": null,
            "grid_auto_columns": null,
            "grid_auto_flow": null,
            "grid_auto_rows": null,
            "grid_column": null,
            "grid_gap": null,
            "grid_row": null,
            "grid_template_areas": null,
            "grid_template_columns": null,
            "grid_template_rows": null,
            "height": null,
            "justify_content": null,
            "justify_items": null,
            "left": null,
            "margin": null,
            "max_height": null,
            "max_width": null,
            "min_height": null,
            "min_width": null,
            "object_fit": null,
            "object_position": null,
            "order": null,
            "overflow": null,
            "overflow_x": null,
            "overflow_y": null,
            "padding": null,
            "right": null,
            "top": null,
            "visibility": null,
            "width": null
          }
        },
        "62d2c9b878d24326ac1faddce5a76345": {
          "model_module": "@jupyter-widgets/controls",
          "model_name": "ProgressStyleModel",
          "model_module_version": "1.5.0",
          "state": {
            "_model_module": "@jupyter-widgets/controls",
            "_model_module_version": "1.5.0",
            "_model_name": "ProgressStyleModel",
            "_view_count": null,
            "_view_module": "@jupyter-widgets/base",
            "_view_module_version": "1.2.0",
            "_view_name": "StyleView",
            "bar_color": null,
            "description_width": ""
          }
        },
        "52917f2df84145dcaee223132cfedecc": {
          "model_module": "@jupyter-widgets/base",
          "model_name": "LayoutModel",
          "model_module_version": "1.2.0",
          "state": {
            "_model_module": "@jupyter-widgets/base",
            "_model_module_version": "1.2.0",
            "_model_name": "LayoutModel",
            "_view_count": null,
            "_view_module": "@jupyter-widgets/base",
            "_view_module_version": "1.2.0",
            "_view_name": "LayoutView",
            "align_content": null,
            "align_items": null,
            "align_self": null,
            "border": null,
            "bottom": null,
            "display": null,
            "flex": null,
            "flex_flow": null,
            "grid_area": null,
            "grid_auto_columns": null,
            "grid_auto_flow": null,
            "grid_auto_rows": null,
            "grid_column": null,
            "grid_gap": null,
            "grid_row": null,
            "grid_template_areas": null,
            "grid_template_columns": null,
            "grid_template_rows": null,
            "height": null,
            "justify_content": null,
            "justify_items": null,
            "left": null,
            "margin": null,
            "max_height": null,
            "max_width": null,
            "min_height": null,
            "min_width": null,
            "object_fit": null,
            "object_position": null,
            "order": null,
            "overflow": null,
            "overflow_x": null,
            "overflow_y": null,
            "padding": null,
            "right": null,
            "top": null,
            "visibility": null,
            "width": null
          }
        },
        "cdb593e28448430eabdbe0dc83d489e1": {
          "model_module": "@jupyter-widgets/controls",
          "model_name": "DescriptionStyleModel",
          "model_module_version": "1.5.0",
          "state": {
            "_model_module": "@jupyter-widgets/controls",
            "_model_module_version": "1.5.0",
            "_model_name": "DescriptionStyleModel",
            "_view_count": null,
            "_view_module": "@jupyter-widgets/base",
            "_view_module_version": "1.2.0",
            "_view_name": "StyleView",
            "description_width": ""
          }
        },
        "22f9ef1e41a04ba5aff67446c4f9e605": {
          "model_module": "@jupyter-widgets/controls",
          "model_name": "HBoxModel",
          "model_module_version": "1.5.0",
          "state": {
            "_dom_classes": [],
            "_model_module": "@jupyter-widgets/controls",
            "_model_module_version": "1.5.0",
            "_model_name": "HBoxModel",
            "_view_count": null,
            "_view_module": "@jupyter-widgets/controls",
            "_view_module_version": "1.5.0",
            "_view_name": "HBoxView",
            "box_style": "",
            "children": [
              "IPY_MODEL_fff1bc94d78f457fa07d7564360a7086",
              "IPY_MODEL_293bd0e7c2874ee1b66b03798e90ad09",
              "IPY_MODEL_edb4bc519da44dcdbbaa2de67e298017"
            ],
            "layout": "IPY_MODEL_2af9fe086e0a4a28820a51e8fefb45e7"
          }
        },
        "fff1bc94d78f457fa07d7564360a7086": {
          "model_module": "@jupyter-widgets/controls",
          "model_name": "HTMLModel",
          "model_module_version": "1.5.0",
          "state": {
            "_dom_classes": [],
            "_model_module": "@jupyter-widgets/controls",
            "_model_module_version": "1.5.0",
            "_model_name": "HTMLModel",
            "_view_count": null,
            "_view_module": "@jupyter-widgets/controls",
            "_view_module_version": "1.5.0",
            "_view_name": "HTMLView",
            "description": "",
            "description_tooltip": null,
            "layout": "IPY_MODEL_02ba2d1db3c64c4da32ad84b2086cfd9",
            "placeholder": "​",
            "style": "IPY_MODEL_4f3aadfbd46b4a50ac561f2e52f3a564",
            "value": "model.safetensors: 100%"
          }
        },
        "293bd0e7c2874ee1b66b03798e90ad09": {
          "model_module": "@jupyter-widgets/controls",
          "model_name": "FloatProgressModel",
          "model_module_version": "1.5.0",
          "state": {
            "_dom_classes": [],
            "_model_module": "@jupyter-widgets/controls",
            "_model_module_version": "1.5.0",
            "_model_name": "FloatProgressModel",
            "_view_count": null,
            "_view_module": "@jupyter-widgets/controls",
            "_view_module_version": "1.5.0",
            "_view_name": "ProgressView",
            "bar_style": "success",
            "description": "",
            "description_tooltip": null,
            "layout": "IPY_MODEL_f9f4d05b340d469aa19360e71eda920a",
            "max": 267832560,
            "min": 0,
            "orientation": "horizontal",
            "style": "IPY_MODEL_7ccc43d78c064f6499891cec4ede6cf3",
            "value": 267832560
          }
        },
        "edb4bc519da44dcdbbaa2de67e298017": {
          "model_module": "@jupyter-widgets/controls",
          "model_name": "HTMLModel",
          "model_module_version": "1.5.0",
          "state": {
            "_dom_classes": [],
            "_model_module": "@jupyter-widgets/controls",
            "_model_module_version": "1.5.0",
            "_model_name": "HTMLModel",
            "_view_count": null,
            "_view_module": "@jupyter-widgets/controls",
            "_view_module_version": "1.5.0",
            "_view_name": "HTMLView",
            "description": "",
            "description_tooltip": null,
            "layout": "IPY_MODEL_33de92ac58d74be394bddeba41cd1894",
            "placeholder": "​",
            "style": "IPY_MODEL_e6d3d4a47bdf44108f8b9433fca5529c",
            "value": " 268M/268M [00:06&lt;00:00, 42.8MB/s]"
          }
        },
        "2af9fe086e0a4a28820a51e8fefb45e7": {
          "model_module": "@jupyter-widgets/base",
          "model_name": "LayoutModel",
          "model_module_version": "1.2.0",
          "state": {
            "_model_module": "@jupyter-widgets/base",
            "_model_module_version": "1.2.0",
            "_model_name": "LayoutModel",
            "_view_count": null,
            "_view_module": "@jupyter-widgets/base",
            "_view_module_version": "1.2.0",
            "_view_name": "LayoutView",
            "align_content": null,
            "align_items": null,
            "align_self": null,
            "border": null,
            "bottom": null,
            "display": null,
            "flex": null,
            "flex_flow": null,
            "grid_area": null,
            "grid_auto_columns": null,
            "grid_auto_flow": null,
            "grid_auto_rows": null,
            "grid_column": null,
            "grid_gap": null,
            "grid_row": null,
            "grid_template_areas": null,
            "grid_template_columns": null,
            "grid_template_rows": null,
            "height": null,
            "justify_content": null,
            "justify_items": null,
            "left": null,
            "margin": null,
            "max_height": null,
            "max_width": null,
            "min_height": null,
            "min_width": null,
            "object_fit": null,
            "object_position": null,
            "order": null,
            "overflow": null,
            "overflow_x": null,
            "overflow_y": null,
            "padding": null,
            "right": null,
            "top": null,
            "visibility": null,
            "width": null
          }
        },
        "02ba2d1db3c64c4da32ad84b2086cfd9": {
          "model_module": "@jupyter-widgets/base",
          "model_name": "LayoutModel",
          "model_module_version": "1.2.0",
          "state": {
            "_model_module": "@jupyter-widgets/base",
            "_model_module_version": "1.2.0",
            "_model_name": "LayoutModel",
            "_view_count": null,
            "_view_module": "@jupyter-widgets/base",
            "_view_module_version": "1.2.0",
            "_view_name": "LayoutView",
            "align_content": null,
            "align_items": null,
            "align_self": null,
            "border": null,
            "bottom": null,
            "display": null,
            "flex": null,
            "flex_flow": null,
            "grid_area": null,
            "grid_auto_columns": null,
            "grid_auto_flow": null,
            "grid_auto_rows": null,
            "grid_column": null,
            "grid_gap": null,
            "grid_row": null,
            "grid_template_areas": null,
            "grid_template_columns": null,
            "grid_template_rows": null,
            "height": null,
            "justify_content": null,
            "justify_items": null,
            "left": null,
            "margin": null,
            "max_height": null,
            "max_width": null,
            "min_height": null,
            "min_width": null,
            "object_fit": null,
            "object_position": null,
            "order": null,
            "overflow": null,
            "overflow_x": null,
            "overflow_y": null,
            "padding": null,
            "right": null,
            "top": null,
            "visibility": null,
            "width": null
          }
        },
        "4f3aadfbd46b4a50ac561f2e52f3a564": {
          "model_module": "@jupyter-widgets/controls",
          "model_name": "DescriptionStyleModel",
          "model_module_version": "1.5.0",
          "state": {
            "_model_module": "@jupyter-widgets/controls",
            "_model_module_version": "1.5.0",
            "_model_name": "DescriptionStyleModel",
            "_view_count": null,
            "_view_module": "@jupyter-widgets/base",
            "_view_module_version": "1.2.0",
            "_view_name": "StyleView",
            "description_width": ""
          }
        },
        "f9f4d05b340d469aa19360e71eda920a": {
          "model_module": "@jupyter-widgets/base",
          "model_name": "LayoutModel",
          "model_module_version": "1.2.0",
          "state": {
            "_model_module": "@jupyter-widgets/base",
            "_model_module_version": "1.2.0",
            "_model_name": "LayoutModel",
            "_view_count": null,
            "_view_module": "@jupyter-widgets/base",
            "_view_module_version": "1.2.0",
            "_view_name": "LayoutView",
            "align_content": null,
            "align_items": null,
            "align_self": null,
            "border": null,
            "bottom": null,
            "display": null,
            "flex": null,
            "flex_flow": null,
            "grid_area": null,
            "grid_auto_columns": null,
            "grid_auto_flow": null,
            "grid_auto_rows": null,
            "grid_column": null,
            "grid_gap": null,
            "grid_row": null,
            "grid_template_areas": null,
            "grid_template_columns": null,
            "grid_template_rows": null,
            "height": null,
            "justify_content": null,
            "justify_items": null,
            "left": null,
            "margin": null,
            "max_height": null,
            "max_width": null,
            "min_height": null,
            "min_width": null,
            "object_fit": null,
            "object_position": null,
            "order": null,
            "overflow": null,
            "overflow_x": null,
            "overflow_y": null,
            "padding": null,
            "right": null,
            "top": null,
            "visibility": null,
            "width": null
          }
        },
        "7ccc43d78c064f6499891cec4ede6cf3": {
          "model_module": "@jupyter-widgets/controls",
          "model_name": "ProgressStyleModel",
          "model_module_version": "1.5.0",
          "state": {
            "_model_module": "@jupyter-widgets/controls",
            "_model_module_version": "1.5.0",
            "_model_name": "ProgressStyleModel",
            "_view_count": null,
            "_view_module": "@jupyter-widgets/base",
            "_view_module_version": "1.2.0",
            "_view_name": "StyleView",
            "bar_color": null,
            "description_width": ""
          }
        },
        "33de92ac58d74be394bddeba41cd1894": {
          "model_module": "@jupyter-widgets/base",
          "model_name": "LayoutModel",
          "model_module_version": "1.2.0",
          "state": {
            "_model_module": "@jupyter-widgets/base",
            "_model_module_version": "1.2.0",
            "_model_name": "LayoutModel",
            "_view_count": null,
            "_view_module": "@jupyter-widgets/base",
            "_view_module_version": "1.2.0",
            "_view_name": "LayoutView",
            "align_content": null,
            "align_items": null,
            "align_self": null,
            "border": null,
            "bottom": null,
            "display": null,
            "flex": null,
            "flex_flow": null,
            "grid_area": null,
            "grid_auto_columns": null,
            "grid_auto_flow": null,
            "grid_auto_rows": null,
            "grid_column": null,
            "grid_gap": null,
            "grid_row": null,
            "grid_template_areas": null,
            "grid_template_columns": null,
            "grid_template_rows": null,
            "height": null,
            "justify_content": null,
            "justify_items": null,
            "left": null,
            "margin": null,
            "max_height": null,
            "max_width": null,
            "min_height": null,
            "min_width": null,
            "object_fit": null,
            "object_position": null,
            "order": null,
            "overflow": null,
            "overflow_x": null,
            "overflow_y": null,
            "padding": null,
            "right": null,
            "top": null,
            "visibility": null,
            "width": null
          }
        },
        "e6d3d4a47bdf44108f8b9433fca5529c": {
          "model_module": "@jupyter-widgets/controls",
          "model_name": "DescriptionStyleModel",
          "model_module_version": "1.5.0",
          "state": {
            "_model_module": "@jupyter-widgets/controls",
            "_model_module_version": "1.5.0",
            "_model_name": "DescriptionStyleModel",
            "_view_count": null,
            "_view_module": "@jupyter-widgets/base",
            "_view_module_version": "1.2.0",
            "_view_name": "StyleView",
            "description_width": ""
          }
        },
        "b2334777c90b47c88fb260837b63bb9c": {
          "model_module": "@jupyter-widgets/controls",
          "model_name": "HBoxModel",
          "model_module_version": "1.5.0",
          "state": {
            "_dom_classes": [],
            "_model_module": "@jupyter-widgets/controls",
            "_model_module_version": "1.5.0",
            "_model_name": "HBoxModel",
            "_view_count": null,
            "_view_module": "@jupyter-widgets/controls",
            "_view_module_version": "1.5.0",
            "_view_name": "HBoxView",
            "box_style": "",
            "children": [
              "IPY_MODEL_ef55ef00a1724f96be938063251f74fb",
              "IPY_MODEL_e7cd4143928248949b3a0904cf6ef8d3",
              "IPY_MODEL_c08fa933aa614813af52d7137924b8ae"
            ],
            "layout": "IPY_MODEL_68f6e3a6a3f84a81a3202b755057ca41"
          }
        },
        "ef55ef00a1724f96be938063251f74fb": {
          "model_module": "@jupyter-widgets/controls",
          "model_name": "HTMLModel",
          "model_module_version": "1.5.0",
          "state": {
            "_dom_classes": [],
            "_model_module": "@jupyter-widgets/controls",
            "_model_module_version": "1.5.0",
            "_model_name": "HTMLModel",
            "_view_count": null,
            "_view_module": "@jupyter-widgets/controls",
            "_view_module_version": "1.5.0",
            "_view_name": "HTMLView",
            "description": "",
            "description_tooltip": null,
            "layout": "IPY_MODEL_f5fda547c69146d9b27e23f6982acb62",
            "placeholder": "​",
            "style": "IPY_MODEL_0cf67e1a876f495b88deff4d1645b688",
            "value": "tokenizer_config.json: 100%"
          }
        },
        "e7cd4143928248949b3a0904cf6ef8d3": {
          "model_module": "@jupyter-widgets/controls",
          "model_name": "FloatProgressModel",
          "model_module_version": "1.5.0",
          "state": {
            "_dom_classes": [],
            "_model_module": "@jupyter-widgets/controls",
            "_model_module_version": "1.5.0",
            "_model_name": "FloatProgressModel",
            "_view_count": null,
            "_view_module": "@jupyter-widgets/controls",
            "_view_module_version": "1.5.0",
            "_view_name": "ProgressView",
            "bar_style": "success",
            "description": "",
            "description_tooltip": null,
            "layout": "IPY_MODEL_7a502309a8e94454966e9cc116685252",
            "max": 1227,
            "min": 0,
            "orientation": "horizontal",
            "style": "IPY_MODEL_63f89292d5994635b6cdd812b6999112",
            "value": 1227
          }
        },
        "c08fa933aa614813af52d7137924b8ae": {
          "model_module": "@jupyter-widgets/controls",
          "model_name": "HTMLModel",
          "model_module_version": "1.5.0",
          "state": {
            "_dom_classes": [],
            "_model_module": "@jupyter-widgets/controls",
            "_model_module_version": "1.5.0",
            "_model_name": "HTMLModel",
            "_view_count": null,
            "_view_module": "@jupyter-widgets/controls",
            "_view_module_version": "1.5.0",
            "_view_name": "HTMLView",
            "description": "",
            "description_tooltip": null,
            "layout": "IPY_MODEL_61bb9f2a8ec64f2fbd03df9668c77ef6",
            "placeholder": "​",
            "style": "IPY_MODEL_83d3628945d444c1a3404546a6d76a92",
            "value": " 1.23k/1.23k [00:00&lt;00:00, 77.4kB/s]"
          }
        },
        "68f6e3a6a3f84a81a3202b755057ca41": {
          "model_module": "@jupyter-widgets/base",
          "model_name": "LayoutModel",
          "model_module_version": "1.2.0",
          "state": {
            "_model_module": "@jupyter-widgets/base",
            "_model_module_version": "1.2.0",
            "_model_name": "LayoutModel",
            "_view_count": null,
            "_view_module": "@jupyter-widgets/base",
            "_view_module_version": "1.2.0",
            "_view_name": "LayoutView",
            "align_content": null,
            "align_items": null,
            "align_self": null,
            "border": null,
            "bottom": null,
            "display": null,
            "flex": null,
            "flex_flow": null,
            "grid_area": null,
            "grid_auto_columns": null,
            "grid_auto_flow": null,
            "grid_auto_rows": null,
            "grid_column": null,
            "grid_gap": null,
            "grid_row": null,
            "grid_template_areas": null,
            "grid_template_columns": null,
            "grid_template_rows": null,
            "height": null,
            "justify_content": null,
            "justify_items": null,
            "left": null,
            "margin": null,
            "max_height": null,
            "max_width": null,
            "min_height": null,
            "min_width": null,
            "object_fit": null,
            "object_position": null,
            "order": null,
            "overflow": null,
            "overflow_x": null,
            "overflow_y": null,
            "padding": null,
            "right": null,
            "top": null,
            "visibility": null,
            "width": null
          }
        },
        "f5fda547c69146d9b27e23f6982acb62": {
          "model_module": "@jupyter-widgets/base",
          "model_name": "LayoutModel",
          "model_module_version": "1.2.0",
          "state": {
            "_model_module": "@jupyter-widgets/base",
            "_model_module_version": "1.2.0",
            "_model_name": "LayoutModel",
            "_view_count": null,
            "_view_module": "@jupyter-widgets/base",
            "_view_module_version": "1.2.0",
            "_view_name": "LayoutView",
            "align_content": null,
            "align_items": null,
            "align_self": null,
            "border": null,
            "bottom": null,
            "display": null,
            "flex": null,
            "flex_flow": null,
            "grid_area": null,
            "grid_auto_columns": null,
            "grid_auto_flow": null,
            "grid_auto_rows": null,
            "grid_column": null,
            "grid_gap": null,
            "grid_row": null,
            "grid_template_areas": null,
            "grid_template_columns": null,
            "grid_template_rows": null,
            "height": null,
            "justify_content": null,
            "justify_items": null,
            "left": null,
            "margin": null,
            "max_height": null,
            "max_width": null,
            "min_height": null,
            "min_width": null,
            "object_fit": null,
            "object_position": null,
            "order": null,
            "overflow": null,
            "overflow_x": null,
            "overflow_y": null,
            "padding": null,
            "right": null,
            "top": null,
            "visibility": null,
            "width": null
          }
        },
        "0cf67e1a876f495b88deff4d1645b688": {
          "model_module": "@jupyter-widgets/controls",
          "model_name": "DescriptionStyleModel",
          "model_module_version": "1.5.0",
          "state": {
            "_model_module": "@jupyter-widgets/controls",
            "_model_module_version": "1.5.0",
            "_model_name": "DescriptionStyleModel",
            "_view_count": null,
            "_view_module": "@jupyter-widgets/base",
            "_view_module_version": "1.2.0",
            "_view_name": "StyleView",
            "description_width": ""
          }
        },
        "7a502309a8e94454966e9cc116685252": {
          "model_module": "@jupyter-widgets/base",
          "model_name": "LayoutModel",
          "model_module_version": "1.2.0",
          "state": {
            "_model_module": "@jupyter-widgets/base",
            "_model_module_version": "1.2.0",
            "_model_name": "LayoutModel",
            "_view_count": null,
            "_view_module": "@jupyter-widgets/base",
            "_view_module_version": "1.2.0",
            "_view_name": "LayoutView",
            "align_content": null,
            "align_items": null,
            "align_self": null,
            "border": null,
            "bottom": null,
            "display": null,
            "flex": null,
            "flex_flow": null,
            "grid_area": null,
            "grid_auto_columns": null,
            "grid_auto_flow": null,
            "grid_auto_rows": null,
            "grid_column": null,
            "grid_gap": null,
            "grid_row": null,
            "grid_template_areas": null,
            "grid_template_columns": null,
            "grid_template_rows": null,
            "height": null,
            "justify_content": null,
            "justify_items": null,
            "left": null,
            "margin": null,
            "max_height": null,
            "max_width": null,
            "min_height": null,
            "min_width": null,
            "object_fit": null,
            "object_position": null,
            "order": null,
            "overflow": null,
            "overflow_x": null,
            "overflow_y": null,
            "padding": null,
            "right": null,
            "top": null,
            "visibility": null,
            "width": null
          }
        },
        "63f89292d5994635b6cdd812b6999112": {
          "model_module": "@jupyter-widgets/controls",
          "model_name": "ProgressStyleModel",
          "model_module_version": "1.5.0",
          "state": {
            "_model_module": "@jupyter-widgets/controls",
            "_model_module_version": "1.5.0",
            "_model_name": "ProgressStyleModel",
            "_view_count": null,
            "_view_module": "@jupyter-widgets/base",
            "_view_module_version": "1.2.0",
            "_view_name": "StyleView",
            "bar_color": null,
            "description_width": ""
          }
        },
        "61bb9f2a8ec64f2fbd03df9668c77ef6": {
          "model_module": "@jupyter-widgets/base",
          "model_name": "LayoutModel",
          "model_module_version": "1.2.0",
          "state": {
            "_model_module": "@jupyter-widgets/base",
            "_model_module_version": "1.2.0",
            "_model_name": "LayoutModel",
            "_view_count": null,
            "_view_module": "@jupyter-widgets/base",
            "_view_module_version": "1.2.0",
            "_view_name": "LayoutView",
            "align_content": null,
            "align_items": null,
            "align_self": null,
            "border": null,
            "bottom": null,
            "display": null,
            "flex": null,
            "flex_flow": null,
            "grid_area": null,
            "grid_auto_columns": null,
            "grid_auto_flow": null,
            "grid_auto_rows": null,
            "grid_column": null,
            "grid_gap": null,
            "grid_row": null,
            "grid_template_areas": null,
            "grid_template_columns": null,
            "grid_template_rows": null,
            "height": null,
            "justify_content": null,
            "justify_items": null,
            "left": null,
            "margin": null,
            "max_height": null,
            "max_width": null,
            "min_height": null,
            "min_width": null,
            "object_fit": null,
            "object_position": null,
            "order": null,
            "overflow": null,
            "overflow_x": null,
            "overflow_y": null,
            "padding": null,
            "right": null,
            "top": null,
            "visibility": null,
            "width": null
          }
        },
        "83d3628945d444c1a3404546a6d76a92": {
          "model_module": "@jupyter-widgets/controls",
          "model_name": "DescriptionStyleModel",
          "model_module_version": "1.5.0",
          "state": {
            "_model_module": "@jupyter-widgets/controls",
            "_model_module_version": "1.5.0",
            "_model_name": "DescriptionStyleModel",
            "_view_count": null,
            "_view_module": "@jupyter-widgets/base",
            "_view_module_version": "1.2.0",
            "_view_name": "StyleView",
            "description_width": ""
          }
        },
        "a0856a28d94b4f7481f2d9ee6d674e90": {
          "model_module": "@jupyter-widgets/controls",
          "model_name": "HBoxModel",
          "model_module_version": "1.5.0",
          "state": {
            "_dom_classes": [],
            "_model_module": "@jupyter-widgets/controls",
            "_model_module_version": "1.5.0",
            "_model_name": "HBoxModel",
            "_view_count": null,
            "_view_module": "@jupyter-widgets/controls",
            "_view_module_version": "1.5.0",
            "_view_name": "HBoxView",
            "box_style": "",
            "children": [
              "IPY_MODEL_4f60fe5d601843ff90cd6846b1d8ca26",
              "IPY_MODEL_0e5562c7d4f743debdd5db234d5007eb",
              "IPY_MODEL_a7aa04b1baa6424a9a1d21273eece70e"
            ],
            "layout": "IPY_MODEL_4210782c9c094b2da6e60dddbf8f2b75"
          }
        },
        "4f60fe5d601843ff90cd6846b1d8ca26": {
          "model_module": "@jupyter-widgets/controls",
          "model_name": "HTMLModel",
          "model_module_version": "1.5.0",
          "state": {
            "_dom_classes": [],
            "_model_module": "@jupyter-widgets/controls",
            "_model_module_version": "1.5.0",
            "_model_name": "HTMLModel",
            "_view_count": null,
            "_view_module": "@jupyter-widgets/controls",
            "_view_module_version": "1.5.0",
            "_view_name": "HTMLView",
            "description": "",
            "description_tooltip": null,
            "layout": "IPY_MODEL_9d6e5109d2eb4253ab92f1cc5dff9a1d",
            "placeholder": "​",
            "style": "IPY_MODEL_5b5c9f80fd7d48e8ab596cd941c45c2e",
            "value": "vocab.txt: 100%"
          }
        },
        "0e5562c7d4f743debdd5db234d5007eb": {
          "model_module": "@jupyter-widgets/controls",
          "model_name": "FloatProgressModel",
          "model_module_version": "1.5.0",
          "state": {
            "_dom_classes": [],
            "_model_module": "@jupyter-widgets/controls",
            "_model_module_version": "1.5.0",
            "_model_name": "FloatProgressModel",
            "_view_count": null,
            "_view_module": "@jupyter-widgets/controls",
            "_view_module_version": "1.5.0",
            "_view_name": "ProgressView",
            "bar_style": "success",
            "description": "",
            "description_tooltip": null,
            "layout": "IPY_MODEL_a6df5be8609c4b90adb0399ab311118d",
            "max": 231508,
            "min": 0,
            "orientation": "horizontal",
            "style": "IPY_MODEL_1985e4c3cc2845098f2f00cae3040d90",
            "value": 231508
          }
        },
        "a7aa04b1baa6424a9a1d21273eece70e": {
          "model_module": "@jupyter-widgets/controls",
          "model_name": "HTMLModel",
          "model_module_version": "1.5.0",
          "state": {
            "_dom_classes": [],
            "_model_module": "@jupyter-widgets/controls",
            "_model_module_version": "1.5.0",
            "_model_name": "HTMLModel",
            "_view_count": null,
            "_view_module": "@jupyter-widgets/controls",
            "_view_module_version": "1.5.0",
            "_view_name": "HTMLView",
            "description": "",
            "description_tooltip": null,
            "layout": "IPY_MODEL_c127b9d1f54d45dab39af5e9b5cf566d",
            "placeholder": "​",
            "style": "IPY_MODEL_ee6f754fd58943039b6504b3a5e935e4",
            "value": " 232k/232k [00:00&lt;00:00, 3.14MB/s]"
          }
        },
        "4210782c9c094b2da6e60dddbf8f2b75": {
          "model_module": "@jupyter-widgets/base",
          "model_name": "LayoutModel",
          "model_module_version": "1.2.0",
          "state": {
            "_model_module": "@jupyter-widgets/base",
            "_model_module_version": "1.2.0",
            "_model_name": "LayoutModel",
            "_view_count": null,
            "_view_module": "@jupyter-widgets/base",
            "_view_module_version": "1.2.0",
            "_view_name": "LayoutView",
            "align_content": null,
            "align_items": null,
            "align_self": null,
            "border": null,
            "bottom": null,
            "display": null,
            "flex": null,
            "flex_flow": null,
            "grid_area": null,
            "grid_auto_columns": null,
            "grid_auto_flow": null,
            "grid_auto_rows": null,
            "grid_column": null,
            "grid_gap": null,
            "grid_row": null,
            "grid_template_areas": null,
            "grid_template_columns": null,
            "grid_template_rows": null,
            "height": null,
            "justify_content": null,
            "justify_items": null,
            "left": null,
            "margin": null,
            "max_height": null,
            "max_width": null,
            "min_height": null,
            "min_width": null,
            "object_fit": null,
            "object_position": null,
            "order": null,
            "overflow": null,
            "overflow_x": null,
            "overflow_y": null,
            "padding": null,
            "right": null,
            "top": null,
            "visibility": null,
            "width": null
          }
        },
        "9d6e5109d2eb4253ab92f1cc5dff9a1d": {
          "model_module": "@jupyter-widgets/base",
          "model_name": "LayoutModel",
          "model_module_version": "1.2.0",
          "state": {
            "_model_module": "@jupyter-widgets/base",
            "_model_module_version": "1.2.0",
            "_model_name": "LayoutModel",
            "_view_count": null,
            "_view_module": "@jupyter-widgets/base",
            "_view_module_version": "1.2.0",
            "_view_name": "LayoutView",
            "align_content": null,
            "align_items": null,
            "align_self": null,
            "border": null,
            "bottom": null,
            "display": null,
            "flex": null,
            "flex_flow": null,
            "grid_area": null,
            "grid_auto_columns": null,
            "grid_auto_flow": null,
            "grid_auto_rows": null,
            "grid_column": null,
            "grid_gap": null,
            "grid_row": null,
            "grid_template_areas": null,
            "grid_template_columns": null,
            "grid_template_rows": null,
            "height": null,
            "justify_content": null,
            "justify_items": null,
            "left": null,
            "margin": null,
            "max_height": null,
            "max_width": null,
            "min_height": null,
            "min_width": null,
            "object_fit": null,
            "object_position": null,
            "order": null,
            "overflow": null,
            "overflow_x": null,
            "overflow_y": null,
            "padding": null,
            "right": null,
            "top": null,
            "visibility": null,
            "width": null
          }
        },
        "5b5c9f80fd7d48e8ab596cd941c45c2e": {
          "model_module": "@jupyter-widgets/controls",
          "model_name": "DescriptionStyleModel",
          "model_module_version": "1.5.0",
          "state": {
            "_model_module": "@jupyter-widgets/controls",
            "_model_module_version": "1.5.0",
            "_model_name": "DescriptionStyleModel",
            "_view_count": null,
            "_view_module": "@jupyter-widgets/base",
            "_view_module_version": "1.2.0",
            "_view_name": "StyleView",
            "description_width": ""
          }
        },
        "a6df5be8609c4b90adb0399ab311118d": {
          "model_module": "@jupyter-widgets/base",
          "model_name": "LayoutModel",
          "model_module_version": "1.2.0",
          "state": {
            "_model_module": "@jupyter-widgets/base",
            "_model_module_version": "1.2.0",
            "_model_name": "LayoutModel",
            "_view_count": null,
            "_view_module": "@jupyter-widgets/base",
            "_view_module_version": "1.2.0",
            "_view_name": "LayoutView",
            "align_content": null,
            "align_items": null,
            "align_self": null,
            "border": null,
            "bottom": null,
            "display": null,
            "flex": null,
            "flex_flow": null,
            "grid_area": null,
            "grid_auto_columns": null,
            "grid_auto_flow": null,
            "grid_auto_rows": null,
            "grid_column": null,
            "grid_gap": null,
            "grid_row": null,
            "grid_template_areas": null,
            "grid_template_columns": null,
            "grid_template_rows": null,
            "height": null,
            "justify_content": null,
            "justify_items": null,
            "left": null,
            "margin": null,
            "max_height": null,
            "max_width": null,
            "min_height": null,
            "min_width": null,
            "object_fit": null,
            "object_position": null,
            "order": null,
            "overflow": null,
            "overflow_x": null,
            "overflow_y": null,
            "padding": null,
            "right": null,
            "top": null,
            "visibility": null,
            "width": null
          }
        },
        "1985e4c3cc2845098f2f00cae3040d90": {
          "model_module": "@jupyter-widgets/controls",
          "model_name": "ProgressStyleModel",
          "model_module_version": "1.5.0",
          "state": {
            "_model_module": "@jupyter-widgets/controls",
            "_model_module_version": "1.5.0",
            "_model_name": "ProgressStyleModel",
            "_view_count": null,
            "_view_module": "@jupyter-widgets/base",
            "_view_module_version": "1.2.0",
            "_view_name": "StyleView",
            "bar_color": null,
            "description_width": ""
          }
        },
        "c127b9d1f54d45dab39af5e9b5cf566d": {
          "model_module": "@jupyter-widgets/base",
          "model_name": "LayoutModel",
          "model_module_version": "1.2.0",
          "state": {
            "_model_module": "@jupyter-widgets/base",
            "_model_module_version": "1.2.0",
            "_model_name": "LayoutModel",
            "_view_count": null,
            "_view_module": "@jupyter-widgets/base",
            "_view_module_version": "1.2.0",
            "_view_name": "LayoutView",
            "align_content": null,
            "align_items": null,
            "align_self": null,
            "border": null,
            "bottom": null,
            "display": null,
            "flex": null,
            "flex_flow": null,
            "grid_area": null,
            "grid_auto_columns": null,
            "grid_auto_flow": null,
            "grid_auto_rows": null,
            "grid_column": null,
            "grid_gap": null,
            "grid_row": null,
            "grid_template_areas": null,
            "grid_template_columns": null,
            "grid_template_rows": null,
            "height": null,
            "justify_content": null,
            "justify_items": null,
            "left": null,
            "margin": null,
            "max_height": null,
            "max_width": null,
            "min_height": null,
            "min_width": null,
            "object_fit": null,
            "object_position": null,
            "order": null,
            "overflow": null,
            "overflow_x": null,
            "overflow_y": null,
            "padding": null,
            "right": null,
            "top": null,
            "visibility": null,
            "width": null
          }
        },
        "ee6f754fd58943039b6504b3a5e935e4": {
          "model_module": "@jupyter-widgets/controls",
          "model_name": "DescriptionStyleModel",
          "model_module_version": "1.5.0",
          "state": {
            "_model_module": "@jupyter-widgets/controls",
            "_model_module_version": "1.5.0",
            "_model_name": "DescriptionStyleModel",
            "_view_count": null,
            "_view_module": "@jupyter-widgets/base",
            "_view_module_version": "1.2.0",
            "_view_name": "StyleView",
            "description_width": ""
          }
        },
        "b3692136db384d08bae55917c5cb97a8": {
          "model_module": "@jupyter-widgets/controls",
          "model_name": "HBoxModel",
          "model_module_version": "1.5.0",
          "state": {
            "_dom_classes": [],
            "_model_module": "@jupyter-widgets/controls",
            "_model_module_version": "1.5.0",
            "_model_name": "HBoxModel",
            "_view_count": null,
            "_view_module": "@jupyter-widgets/controls",
            "_view_module_version": "1.5.0",
            "_view_name": "HBoxView",
            "box_style": "",
            "children": [
              "IPY_MODEL_32bfb5e35f154dbea3cbb20eb31e7380",
              "IPY_MODEL_35f67c87dc6144d3943a3455840740b2",
              "IPY_MODEL_e472d17db05d4846bbaca1a17bf9657a"
            ],
            "layout": "IPY_MODEL_b9092819f86a46198b4230dd1095e671"
          }
        },
        "32bfb5e35f154dbea3cbb20eb31e7380": {
          "model_module": "@jupyter-widgets/controls",
          "model_name": "HTMLModel",
          "model_module_version": "1.5.0",
          "state": {
            "_dom_classes": [],
            "_model_module": "@jupyter-widgets/controls",
            "_model_module_version": "1.5.0",
            "_model_name": "HTMLModel",
            "_view_count": null,
            "_view_module": "@jupyter-widgets/controls",
            "_view_module_version": "1.5.0",
            "_view_name": "HTMLView",
            "description": "",
            "description_tooltip": null,
            "layout": "IPY_MODEL_240b4af3d57d4c7991fa19e67163e811",
            "placeholder": "​",
            "style": "IPY_MODEL_6ecc27b123814f078f478545fb9ca5d0",
            "value": "tokenizer.json: 100%"
          }
        },
        "35f67c87dc6144d3943a3455840740b2": {
          "model_module": "@jupyter-widgets/controls",
          "model_name": "FloatProgressModel",
          "model_module_version": "1.5.0",
          "state": {
            "_dom_classes": [],
            "_model_module": "@jupyter-widgets/controls",
            "_model_module_version": "1.5.0",
            "_model_name": "FloatProgressModel",
            "_view_count": null,
            "_view_module": "@jupyter-widgets/controls",
            "_view_module_version": "1.5.0",
            "_view_name": "ProgressView",
            "bar_style": "success",
            "description": "",
            "description_tooltip": null,
            "layout": "IPY_MODEL_5a58d4d6282c4cdc9260a2513f572140",
            "max": 711661,
            "min": 0,
            "orientation": "horizontal",
            "style": "IPY_MODEL_eada613bfe1449a2b30dc1ed55f42126",
            "value": 711661
          }
        },
        "e472d17db05d4846bbaca1a17bf9657a": {
          "model_module": "@jupyter-widgets/controls",
          "model_name": "HTMLModel",
          "model_module_version": "1.5.0",
          "state": {
            "_dom_classes": [],
            "_model_module": "@jupyter-widgets/controls",
            "_model_module_version": "1.5.0",
            "_model_name": "HTMLModel",
            "_view_count": null,
            "_view_module": "@jupyter-widgets/controls",
            "_view_module_version": "1.5.0",
            "_view_name": "HTMLView",
            "description": "",
            "description_tooltip": null,
            "layout": "IPY_MODEL_0459663c28e84db783687e02a4018f87",
            "placeholder": "​",
            "style": "IPY_MODEL_a39df47494cc4b4691fb6ede3e0e6191",
            "value": " 712k/712k [00:00&lt;00:00, 3.65MB/s]"
          }
        },
        "b9092819f86a46198b4230dd1095e671": {
          "model_module": "@jupyter-widgets/base",
          "model_name": "LayoutModel",
          "model_module_version": "1.2.0",
          "state": {
            "_model_module": "@jupyter-widgets/base",
            "_model_module_version": "1.2.0",
            "_model_name": "LayoutModel",
            "_view_count": null,
            "_view_module": "@jupyter-widgets/base",
            "_view_module_version": "1.2.0",
            "_view_name": "LayoutView",
            "align_content": null,
            "align_items": null,
            "align_self": null,
            "border": null,
            "bottom": null,
            "display": null,
            "flex": null,
            "flex_flow": null,
            "grid_area": null,
            "grid_auto_columns": null,
            "grid_auto_flow": null,
            "grid_auto_rows": null,
            "grid_column": null,
            "grid_gap": null,
            "grid_row": null,
            "grid_template_areas": null,
            "grid_template_columns": null,
            "grid_template_rows": null,
            "height": null,
            "justify_content": null,
            "justify_items": null,
            "left": null,
            "margin": null,
            "max_height": null,
            "max_width": null,
            "min_height": null,
            "min_width": null,
            "object_fit": null,
            "object_position": null,
            "order": null,
            "overflow": null,
            "overflow_x": null,
            "overflow_y": null,
            "padding": null,
            "right": null,
            "top": null,
            "visibility": null,
            "width": null
          }
        },
        "240b4af3d57d4c7991fa19e67163e811": {
          "model_module": "@jupyter-widgets/base",
          "model_name": "LayoutModel",
          "model_module_version": "1.2.0",
          "state": {
            "_model_module": "@jupyter-widgets/base",
            "_model_module_version": "1.2.0",
            "_model_name": "LayoutModel",
            "_view_count": null,
            "_view_module": "@jupyter-widgets/base",
            "_view_module_version": "1.2.0",
            "_view_name": "LayoutView",
            "align_content": null,
            "align_items": null,
            "align_self": null,
            "border": null,
            "bottom": null,
            "display": null,
            "flex": null,
            "flex_flow": null,
            "grid_area": null,
            "grid_auto_columns": null,
            "grid_auto_flow": null,
            "grid_auto_rows": null,
            "grid_column": null,
            "grid_gap": null,
            "grid_row": null,
            "grid_template_areas": null,
            "grid_template_columns": null,
            "grid_template_rows": null,
            "height": null,
            "justify_content": null,
            "justify_items": null,
            "left": null,
            "margin": null,
            "max_height": null,
            "max_width": null,
            "min_height": null,
            "min_width": null,
            "object_fit": null,
            "object_position": null,
            "order": null,
            "overflow": null,
            "overflow_x": null,
            "overflow_y": null,
            "padding": null,
            "right": null,
            "top": null,
            "visibility": null,
            "width": null
          }
        },
        "6ecc27b123814f078f478545fb9ca5d0": {
          "model_module": "@jupyter-widgets/controls",
          "model_name": "DescriptionStyleModel",
          "model_module_version": "1.5.0",
          "state": {
            "_model_module": "@jupyter-widgets/controls",
            "_model_module_version": "1.5.0",
            "_model_name": "DescriptionStyleModel",
            "_view_count": null,
            "_view_module": "@jupyter-widgets/base",
            "_view_module_version": "1.2.0",
            "_view_name": "StyleView",
            "description_width": ""
          }
        },
        "5a58d4d6282c4cdc9260a2513f572140": {
          "model_module": "@jupyter-widgets/base",
          "model_name": "LayoutModel",
          "model_module_version": "1.2.0",
          "state": {
            "_model_module": "@jupyter-widgets/base",
            "_model_module_version": "1.2.0",
            "_model_name": "LayoutModel",
            "_view_count": null,
            "_view_module": "@jupyter-widgets/base",
            "_view_module_version": "1.2.0",
            "_view_name": "LayoutView",
            "align_content": null,
            "align_items": null,
            "align_self": null,
            "border": null,
            "bottom": null,
            "display": null,
            "flex": null,
            "flex_flow": null,
            "grid_area": null,
            "grid_auto_columns": null,
            "grid_auto_flow": null,
            "grid_auto_rows": null,
            "grid_column": null,
            "grid_gap": null,
            "grid_row": null,
            "grid_template_areas": null,
            "grid_template_columns": null,
            "grid_template_rows": null,
            "height": null,
            "justify_content": null,
            "justify_items": null,
            "left": null,
            "margin": null,
            "max_height": null,
            "max_width": null,
            "min_height": null,
            "min_width": null,
            "object_fit": null,
            "object_position": null,
            "order": null,
            "overflow": null,
            "overflow_x": null,
            "overflow_y": null,
            "padding": null,
            "right": null,
            "top": null,
            "visibility": null,
            "width": null
          }
        },
        "eada613bfe1449a2b30dc1ed55f42126": {
          "model_module": "@jupyter-widgets/controls",
          "model_name": "ProgressStyleModel",
          "model_module_version": "1.5.0",
          "state": {
            "_model_module": "@jupyter-widgets/controls",
            "_model_module_version": "1.5.0",
            "_model_name": "ProgressStyleModel",
            "_view_count": null,
            "_view_module": "@jupyter-widgets/base",
            "_view_module_version": "1.2.0",
            "_view_name": "StyleView",
            "bar_color": null,
            "description_width": ""
          }
        },
        "0459663c28e84db783687e02a4018f87": {
          "model_module": "@jupyter-widgets/base",
          "model_name": "LayoutModel",
          "model_module_version": "1.2.0",
          "state": {
            "_model_module": "@jupyter-widgets/base",
            "_model_module_version": "1.2.0",
            "_model_name": "LayoutModel",
            "_view_count": null,
            "_view_module": "@jupyter-widgets/base",
            "_view_module_version": "1.2.0",
            "_view_name": "LayoutView",
            "align_content": null,
            "align_items": null,
            "align_self": null,
            "border": null,
            "bottom": null,
            "display": null,
            "flex": null,
            "flex_flow": null,
            "grid_area": null,
            "grid_auto_columns": null,
            "grid_auto_flow": null,
            "grid_auto_rows": null,
            "grid_column": null,
            "grid_gap": null,
            "grid_row": null,
            "grid_template_areas": null,
            "grid_template_columns": null,
            "grid_template_rows": null,
            "height": null,
            "justify_content": null,
            "justify_items": null,
            "left": null,
            "margin": null,
            "max_height": null,
            "max_width": null,
            "min_height": null,
            "min_width": null,
            "object_fit": null,
            "object_position": null,
            "order": null,
            "overflow": null,
            "overflow_x": null,
            "overflow_y": null,
            "padding": null,
            "right": null,
            "top": null,
            "visibility": null,
            "width": null
          }
        },
        "a39df47494cc4b4691fb6ede3e0e6191": {
          "model_module": "@jupyter-widgets/controls",
          "model_name": "DescriptionStyleModel",
          "model_module_version": "1.5.0",
          "state": {
            "_model_module": "@jupyter-widgets/controls",
            "_model_module_version": "1.5.0",
            "_model_name": "DescriptionStyleModel",
            "_view_count": null,
            "_view_module": "@jupyter-widgets/base",
            "_view_module_version": "1.2.0",
            "_view_name": "StyleView",
            "description_width": ""
          }
        },
        "c5a06d5758c943a880a1ee87ca51a17b": {
          "model_module": "@jupyter-widgets/controls",
          "model_name": "HBoxModel",
          "model_module_version": "1.5.0",
          "state": {
            "_dom_classes": [],
            "_model_module": "@jupyter-widgets/controls",
            "_model_module_version": "1.5.0",
            "_model_name": "HBoxModel",
            "_view_count": null,
            "_view_module": "@jupyter-widgets/controls",
            "_view_module_version": "1.5.0",
            "_view_name": "HBoxView",
            "box_style": "",
            "children": [
              "IPY_MODEL_a62d0c9309b6465db26c3383398e8247",
              "IPY_MODEL_08b333f23b454b678ca99daf59cb1ac7",
              "IPY_MODEL_54571575d98749ddb44198d8ac4f7edd"
            ],
            "layout": "IPY_MODEL_bba59636c7b44d0eb8f0f83a76c512a8"
          }
        },
        "a62d0c9309b6465db26c3383398e8247": {
          "model_module": "@jupyter-widgets/controls",
          "model_name": "HTMLModel",
          "model_module_version": "1.5.0",
          "state": {
            "_dom_classes": [],
            "_model_module": "@jupyter-widgets/controls",
            "_model_module_version": "1.5.0",
            "_model_name": "HTMLModel",
            "_view_count": null,
            "_view_module": "@jupyter-widgets/controls",
            "_view_module_version": "1.5.0",
            "_view_name": "HTMLView",
            "description": "",
            "description_tooltip": null,
            "layout": "IPY_MODEL_1246d26e894c4b7aba032156439d4d50",
            "placeholder": "​",
            "style": "IPY_MODEL_f3a3d3afc2a44f4f9887b3becb538458",
            "value": "special_tokens_map.json: 100%"
          }
        },
        "08b333f23b454b678ca99daf59cb1ac7": {
          "model_module": "@jupyter-widgets/controls",
          "model_name": "FloatProgressModel",
          "model_module_version": "1.5.0",
          "state": {
            "_dom_classes": [],
            "_model_module": "@jupyter-widgets/controls",
            "_model_module_version": "1.5.0",
            "_model_name": "FloatProgressModel",
            "_view_count": null,
            "_view_module": "@jupyter-widgets/controls",
            "_view_module_version": "1.5.0",
            "_view_name": "ProgressView",
            "bar_style": "success",
            "description": "",
            "description_tooltip": null,
            "layout": "IPY_MODEL_ea09b3d5fc09490d92ff45c225e15055",
            "max": 125,
            "min": 0,
            "orientation": "horizontal",
            "style": "IPY_MODEL_6c9792a075054184a25ddfe437868df4",
            "value": 125
          }
        },
        "54571575d98749ddb44198d8ac4f7edd": {
          "model_module": "@jupyter-widgets/controls",
          "model_name": "HTMLModel",
          "model_module_version": "1.5.0",
          "state": {
            "_dom_classes": [],
            "_model_module": "@jupyter-widgets/controls",
            "_model_module_version": "1.5.0",
            "_model_name": "HTMLModel",
            "_view_count": null,
            "_view_module": "@jupyter-widgets/controls",
            "_view_module_version": "1.5.0",
            "_view_name": "HTMLView",
            "description": "",
            "description_tooltip": null,
            "layout": "IPY_MODEL_dd06b88c458144c5899ee76f7369d0be",
            "placeholder": "​",
            "style": "IPY_MODEL_773efbf5f26144369c0617119a7a30a1",
            "value": " 125/125 [00:00&lt;00:00, 7.44kB/s]"
          }
        },
        "bba59636c7b44d0eb8f0f83a76c512a8": {
          "model_module": "@jupyter-widgets/base",
          "model_name": "LayoutModel",
          "model_module_version": "1.2.0",
          "state": {
            "_model_module": "@jupyter-widgets/base",
            "_model_module_version": "1.2.0",
            "_model_name": "LayoutModel",
            "_view_count": null,
            "_view_module": "@jupyter-widgets/base",
            "_view_module_version": "1.2.0",
            "_view_name": "LayoutView",
            "align_content": null,
            "align_items": null,
            "align_self": null,
            "border": null,
            "bottom": null,
            "display": null,
            "flex": null,
            "flex_flow": null,
            "grid_area": null,
            "grid_auto_columns": null,
            "grid_auto_flow": null,
            "grid_auto_rows": null,
            "grid_column": null,
            "grid_gap": null,
            "grid_row": null,
            "grid_template_areas": null,
            "grid_template_columns": null,
            "grid_template_rows": null,
            "height": null,
            "justify_content": null,
            "justify_items": null,
            "left": null,
            "margin": null,
            "max_height": null,
            "max_width": null,
            "min_height": null,
            "min_width": null,
            "object_fit": null,
            "object_position": null,
            "order": null,
            "overflow": null,
            "overflow_x": null,
            "overflow_y": null,
            "padding": null,
            "right": null,
            "top": null,
            "visibility": null,
            "width": null
          }
        },
        "1246d26e894c4b7aba032156439d4d50": {
          "model_module": "@jupyter-widgets/base",
          "model_name": "LayoutModel",
          "model_module_version": "1.2.0",
          "state": {
            "_model_module": "@jupyter-widgets/base",
            "_model_module_version": "1.2.0",
            "_model_name": "LayoutModel",
            "_view_count": null,
            "_view_module": "@jupyter-widgets/base",
            "_view_module_version": "1.2.0",
            "_view_name": "LayoutView",
            "align_content": null,
            "align_items": null,
            "align_self": null,
            "border": null,
            "bottom": null,
            "display": null,
            "flex": null,
            "flex_flow": null,
            "grid_area": null,
            "grid_auto_columns": null,
            "grid_auto_flow": null,
            "grid_auto_rows": null,
            "grid_column": null,
            "grid_gap": null,
            "grid_row": null,
            "grid_template_areas": null,
            "grid_template_columns": null,
            "grid_template_rows": null,
            "height": null,
            "justify_content": null,
            "justify_items": null,
            "left": null,
            "margin": null,
            "max_height": null,
            "max_width": null,
            "min_height": null,
            "min_width": null,
            "object_fit": null,
            "object_position": null,
            "order": null,
            "overflow": null,
            "overflow_x": null,
            "overflow_y": null,
            "padding": null,
            "right": null,
            "top": null,
            "visibility": null,
            "width": null
          }
        },
        "f3a3d3afc2a44f4f9887b3becb538458": {
          "model_module": "@jupyter-widgets/controls",
          "model_name": "DescriptionStyleModel",
          "model_module_version": "1.5.0",
          "state": {
            "_model_module": "@jupyter-widgets/controls",
            "_model_module_version": "1.5.0",
            "_model_name": "DescriptionStyleModel",
            "_view_count": null,
            "_view_module": "@jupyter-widgets/base",
            "_view_module_version": "1.2.0",
            "_view_name": "StyleView",
            "description_width": ""
          }
        },
        "ea09b3d5fc09490d92ff45c225e15055": {
          "model_module": "@jupyter-widgets/base",
          "model_name": "LayoutModel",
          "model_module_version": "1.2.0",
          "state": {
            "_model_module": "@jupyter-widgets/base",
            "_model_module_version": "1.2.0",
            "_model_name": "LayoutModel",
            "_view_count": null,
            "_view_module": "@jupyter-widgets/base",
            "_view_module_version": "1.2.0",
            "_view_name": "LayoutView",
            "align_content": null,
            "align_items": null,
            "align_self": null,
            "border": null,
            "bottom": null,
            "display": null,
            "flex": null,
            "flex_flow": null,
            "grid_area": null,
            "grid_auto_columns": null,
            "grid_auto_flow": null,
            "grid_auto_rows": null,
            "grid_column": null,
            "grid_gap": null,
            "grid_row": null,
            "grid_template_areas": null,
            "grid_template_columns": null,
            "grid_template_rows": null,
            "height": null,
            "justify_content": null,
            "justify_items": null,
            "left": null,
            "margin": null,
            "max_height": null,
            "max_width": null,
            "min_height": null,
            "min_width": null,
            "object_fit": null,
            "object_position": null,
            "order": null,
            "overflow": null,
            "overflow_x": null,
            "overflow_y": null,
            "padding": null,
            "right": null,
            "top": null,
            "visibility": null,
            "width": null
          }
        },
        "6c9792a075054184a25ddfe437868df4": {
          "model_module": "@jupyter-widgets/controls",
          "model_name": "ProgressStyleModel",
          "model_module_version": "1.5.0",
          "state": {
            "_model_module": "@jupyter-widgets/controls",
            "_model_module_version": "1.5.0",
            "_model_name": "ProgressStyleModel",
            "_view_count": null,
            "_view_module": "@jupyter-widgets/base",
            "_view_module_version": "1.2.0",
            "_view_name": "StyleView",
            "bar_color": null,
            "description_width": ""
          }
        },
        "dd06b88c458144c5899ee76f7369d0be": {
          "model_module": "@jupyter-widgets/base",
          "model_name": "LayoutModel",
          "model_module_version": "1.2.0",
          "state": {
            "_model_module": "@jupyter-widgets/base",
            "_model_module_version": "1.2.0",
            "_model_name": "LayoutModel",
            "_view_count": null,
            "_view_module": "@jupyter-widgets/base",
            "_view_module_version": "1.2.0",
            "_view_name": "LayoutView",
            "align_content": null,
            "align_items": null,
            "align_self": null,
            "border": null,
            "bottom": null,
            "display": null,
            "flex": null,
            "flex_flow": null,
            "grid_area": null,
            "grid_auto_columns": null,
            "grid_auto_flow": null,
            "grid_auto_rows": null,
            "grid_column": null,
            "grid_gap": null,
            "grid_row": null,
            "grid_template_areas": null,
            "grid_template_columns": null,
            "grid_template_rows": null,
            "height": null,
            "justify_content": null,
            "justify_items": null,
            "left": null,
            "margin": null,
            "max_height": null,
            "max_width": null,
            "min_height": null,
            "min_width": null,
            "object_fit": null,
            "object_position": null,
            "order": null,
            "overflow": null,
            "overflow_x": null,
            "overflow_y": null,
            "padding": null,
            "right": null,
            "top": null,
            "visibility": null,
            "width": null
          }
        },
        "773efbf5f26144369c0617119a7a30a1": {
          "model_module": "@jupyter-widgets/controls",
          "model_name": "DescriptionStyleModel",
          "model_module_version": "1.5.0",
          "state": {
            "_model_module": "@jupyter-widgets/controls",
            "_model_module_version": "1.5.0",
            "_model_name": "DescriptionStyleModel",
            "_view_count": null,
            "_view_module": "@jupyter-widgets/base",
            "_view_module_version": "1.2.0",
            "_view_name": "StyleView",
            "description_width": ""
          }
        }
      }
    },
    "accelerator": "GPU"
  },
  "nbformat": 4,
  "nbformat_minor": 0
}